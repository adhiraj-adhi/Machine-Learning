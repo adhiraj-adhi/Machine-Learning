{
 "cells": [
  {
   "cell_type": "markdown",
   "id": "941b800d-9d01-4165-9553-7650f8bc2728",
   "metadata": {},
   "source": [
    "# 5.6.4) Testing the model trained with pipeline"
   ]
  },
  {
   "cell_type": "code",
   "execution_count": 1,
   "id": "7121c720-f22f-47d8-bd6a-86b51fe6099c",
   "metadata": {},
   "outputs": [],
   "source": [
    "import pickle\n",
    "import numpy as np"
   ]
  },
  {
   "cell_type": "code",
   "execution_count": 2,
   "id": "1f250e23-6373-4bee-b41f-6020c0654e69",
   "metadata": {},
   "outputs": [],
   "source": [
    "pipe = pickle.load(open('pipe.pkl','rb'))"
   ]
  },
  {
   "cell_type": "code",
   "execution_count": 3,
   "id": "a85217be-c516-49d0-b404-e93f883db888",
   "metadata": {},
   "outputs": [
    {
     "data": {
      "text/plain": [
       "array([[2, 'male', 31.0, 0, 0, 10.5, 'S']], dtype=object)"
      ]
     },
     "execution_count": 3,
     "metadata": {},
     "output_type": "execute_result"
    }
   ],
   "source": [
    "# Assume user input:\n",
    "test_input = np.array([2,'male',31.0,0,0,10.5,'S'], dtype=object).reshape(1,7)\n",
    "test_input"
   ]
  },
  {
   "cell_type": "code",
   "execution_count": 4,
   "id": "529e302a-1761-45c2-9e16-ee8434bfbacd",
   "metadata": {},
   "outputs": [
    {
     "name": "stderr",
     "output_type": "stream",
     "text": [
      "C:\\Users\\abhin\\AppData\\Roaming\\Python\\Python312\\site-packages\\sklearn\\utils\\validation.py:2739: UserWarning: X does not have valid feature names, but SimpleImputer was fitted with feature names\n",
      "  warnings.warn(\n",
      "C:\\Users\\abhin\\AppData\\Roaming\\Python\\Python312\\site-packages\\sklearn\\utils\\validation.py:2739: UserWarning: X does not have valid feature names, but SimpleImputer was fitted with feature names\n",
      "  warnings.warn(\n"
     ]
    },
    {
     "data": {
      "text/plain": [
       "array([0])"
      ]
     },
     "execution_count": 4,
     "metadata": {},
     "output_type": "execute_result"
    }
   ],
   "source": [
    "pipe.predict(test_input)   # gives the prediction/result"
   ]
  },
  {
   "cell_type": "code",
   "execution_count": 5,
   "id": "a3e8086b-10e7-4808-aba2-fb444e85bd60",
   "metadata": {},
   "outputs": [
    {
     "name": "stdout",
     "output_type": "stream",
     "text": [
      "Prediction: [0]\n"
     ]
    }
   ],
   "source": [
    "# To fix above warning we need to do:\n",
    "import pandas as pd\n",
    "\n",
    "test_input_df = pd.DataFrame([{\n",
    "    'Pclass': 2,\n",
    "    'Sex': 'male',\n",
    "    'Age': 31.0,\n",
    "    'SibSp': 0,\n",
    "    'Parch': 0,\n",
    "    'Fare': 10.5,\n",
    "    'Embarked': 'S'\n",
    "}])\n",
    "\n",
    "# Now predict:\n",
    "prediction = pipe.predict(test_input_df)\n",
    "print(\"Prediction:\", prediction)"
   ]
  },
  {
   "cell_type": "markdown",
   "id": "539fa084-1fe6-4f50-b58b-b44cd00ed8fe",
   "metadata": {},
   "source": [
    "==============================================================================================================="
   ]
  }
 ],
 "metadata": {
  "kernelspec": {
   "display_name": "Python 3 (ipykernel)",
   "language": "python",
   "name": "python3"
  },
  "language_info": {
   "codemirror_mode": {
    "name": "ipython",
    "version": 3
   },
   "file_extension": ".py",
   "mimetype": "text/x-python",
   "name": "python",
   "nbconvert_exporter": "python",
   "pygments_lexer": "ipython3",
   "version": "3.12.4"
  }
 },
 "nbformat": 4,
 "nbformat_minor": 5
}
