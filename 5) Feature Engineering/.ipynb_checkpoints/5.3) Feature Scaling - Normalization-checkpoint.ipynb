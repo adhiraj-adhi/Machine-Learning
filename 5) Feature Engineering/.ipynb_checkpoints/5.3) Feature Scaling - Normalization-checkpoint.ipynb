{
 "cells": [
  {
   "cell_type": "markdown",
   "id": "b6452157-d137-4287-bb06-4e1c403d1350",
   "metadata": {},
   "source": [
    "# 5.3) Feature Scaling - Normalization"
   ]
  },
  {
   "cell_type": "code",
   "execution_count": null,
   "id": "9111bc7e-a6f7-4fe1-b492-70e5e517f97f",
   "metadata": {},
   "outputs": [],
   "source": []
  }
 ],
 "metadata": {
  "kernelspec": {
   "display_name": "Python 3 (ipykernel)",
   "language": "python",
   "name": "python3"
  },
  "language_info": {
   "codemirror_mode": {
    "name": "ipython",
    "version": 3
   },
   "file_extension": ".py",
   "mimetype": "text/x-python",
   "name": "python",
   "nbconvert_exporter": "python",
   "pygments_lexer": "ipython3",
   "version": "3.12.4"
  }
 },
 "nbformat": 4,
 "nbformat_minor": 5
}
