{
 "cells": [
  {
   "cell_type": "markdown",
   "id": "382289b5-d41f-4bf2-b660-ce3637fea225",
   "metadata": {},
   "source": [
    "# 3.2) 2-D NumPy Arrays"
   ]
  },
  {
   "cell_type": "markdown",
   "id": "0998d9ec-f21e-4412-8eb5-efbd127f0842",
   "metadata": {},
   "source": [
    "- Arrays having rows and columns (i.e. matrix)\n",
    "- Collection of 1-D arrays is 2-D array and collection of 2-D arrays is 3-D array."
   ]
  },
  {
   "cell_type": "markdown",
   "id": "bea6016d-ce72-44ef-bff3-6f7a82c5efd5",
   "metadata": {},
   "source": [
    "### Creating 2-D array"
   ]
  },
  {
   "cell_type": "code",
   "execution_count": 2,
   "id": "adaccd01-bfa7-4e7e-a072-c18d5ea23540",
   "metadata": {},
   "outputs": [
    {
     "name": "stdout",
     "output_type": "stream",
     "text": [
      "[[1 2 3]\n",
      " [4 5 6]]\n"
     ]
    },
    {
     "data": {
      "text/plain": [
       "array([[1, 2, 3],\n",
       "       [4, 5, 6]])"
      ]
     },
     "execution_count": 2,
     "metadata": {},
     "output_type": "execute_result"
    }
   ],
   "source": [
    "import numpy as np\n",
    "l = [[1,2,3],[4,5,6]]   # it is nested list\n",
    "a = np.array(l)\n",
    "print(a)\n",
    "a"
   ]
  },
  {
   "cell_type": "markdown",
   "id": "248dfced-712d-422e-8b55-43f4b81521b0",
   "metadata": {},
   "source": [
    "- If suppose we have two lists as: l1=[1,2,3] and l2=[4,5] and want to convert these list to 2-D array then compulsory we have to make both list of same length else we will get error"
   ]
  },
  {
   "cell_type": "code",
   "execution_count": 3,
   "id": "a07e2f39-6d9b-41dd-b2cf-b277b12b90ec",
   "metadata": {},
   "outputs": [
    {
     "ename": "ValueError",
     "evalue": "setting an array element with a sequence. The requested array has an inhomogeneous shape after 1 dimensions. The detected shape was (2,) + inhomogeneous part.",
     "output_type": "error",
     "traceback": [
      "\u001b[1;31m---------------------------------------------------------------------------\u001b[0m",
      "\u001b[1;31mValueError\u001b[0m                                Traceback (most recent call last)",
      "Cell \u001b[1;32mIn[3], line 3\u001b[0m\n\u001b[0;32m      1\u001b[0m l1 \u001b[38;5;241m=\u001b[39m [\u001b[38;5;241m1\u001b[39m, \u001b[38;5;241m2\u001b[39m, \u001b[38;5;241m3\u001b[39m]\n\u001b[0;32m      2\u001b[0m l2 \u001b[38;5;241m=\u001b[39m [\u001b[38;5;241m4\u001b[39m,\u001b[38;5;241m5\u001b[39m]\n\u001b[1;32m----> 3\u001b[0m a \u001b[38;5;241m=\u001b[39m \u001b[43mnp\u001b[49m\u001b[38;5;241;43m.\u001b[39;49m\u001b[43marray\u001b[49m\u001b[43m(\u001b[49m\u001b[43m[\u001b[49m\u001b[43ml1\u001b[49m\u001b[43m,\u001b[49m\u001b[43ml2\u001b[49m\u001b[43m]\u001b[49m\u001b[43m)\u001b[49m\n",
      "\u001b[1;31mValueError\u001b[0m: setting an array element with a sequence. The requested array has an inhomogeneous shape after 1 dimensions. The detected shape was (2,) + inhomogeneous part."
     ]
    }
   ],
   "source": [
    "l1 = [1, 2, 3]\n",
    "l2 = [4,5]\n",
    "a = np.array([l1,l2])"
   ]
  },
  {
   "cell_type": "code",
   "execution_count": 4,
   "id": "cc092cb0-bdf0-4183-9620-55a0717a0efa",
   "metadata": {},
   "outputs": [
    {
     "name": "stdout",
     "output_type": "stream",
     "text": [
      "[[ 1.  2.  3.]\n",
      " [ 4. nan  5.]]\n"
     ]
    }
   ],
   "source": [
    "l1 = [1,2,3]\n",
    "l2 = [4,np.nan,5]\n",
    "a = np.array([l1,l2])\n",
    "print(a)   # since we used np.nan we will get 2-D array of float values"
   ]
  },
  {
   "cell_type": "code",
   "execution_count": 6,
   "id": "20b206b9-6944-4608-a418-021ef1a21750",
   "metadata": {},
   "outputs": [
    {
     "data": {
      "text/plain": [
       "2"
      ]
     },
     "execution_count": 6,
     "metadata": {},
     "output_type": "execute_result"
    }
   ],
   "source": [
    "a.ndim"
   ]
  },
  {
   "cell_type": "code",
   "execution_count": 7,
   "id": "fb6c280d-fb91-41f0-8ddb-d1d66492b2c8",
   "metadata": {},
   "outputs": [
    {
     "data": {
      "text/plain": [
       "(2, 3)"
      ]
     },
     "execution_count": 7,
     "metadata": {},
     "output_type": "execute_result"
    }
   ],
   "source": [
    "a.shape"
   ]
  },
  {
   "cell_type": "code",
   "execution_count": 10,
   "id": "e13c7f2b-f3d5-4665-9558-9d1dc2a43631",
   "metadata": {},
   "outputs": [
    {
     "name": "stdout",
     "output_type": "stream",
     "text": [
      "(3,)\n"
     ]
    },
    {
     "data": {
      "text/plain": [
       "(1, 3)"
      ]
     },
     "execution_count": 10,
     "metadata": {},
     "output_type": "execute_result"
    }
   ],
   "source": [
    "c = np.array([1,2,3])\n",
    "d = np.array([[1,2,3]])\n",
    "print(c.shape)\n",
    "d.shape"
   ]
  },
  {
   "cell_type": "markdown",
   "id": "8e066ac0-f98a-4a0d-9fa1-96d525bf5b5c",
   "metadata": {},
   "source": [
    "**np.zeros()**"
   ]
  },
  {
   "cell_type": "code",
   "execution_count": 12,
   "id": "5e4154a2-1d5f-48a3-a077-f765d52574e9",
   "metadata": {},
   "outputs": [
    {
     "data": {
      "text/plain": [
       "array([[0., 0., 0., 0.],\n",
       "       [0., 0., 0., 0.],\n",
       "       [0., 0., 0., 0.]])"
      ]
     },
     "execution_count": 12,
     "metadata": {},
     "output_type": "execute_result"
    }
   ],
   "source": [
    "np.zeros((3,4))"
   ]
  },
  {
   "cell_type": "code",
   "execution_count": 13,
   "id": "673bf87b-6a53-4caa-98d7-a03619ac76f5",
   "metadata": {},
   "outputs": [
    {
     "data": {
      "text/plain": [
       "array([[0, 0, 0],\n",
       "       [0, 0, 0],\n",
       "       [0, 0, 0]])"
      ]
     },
     "execution_count": 13,
     "metadata": {},
     "output_type": "execute_result"
    }
   ],
   "source": [
    "np.zeros((3,3), dtype=int)"
   ]
  },
  {
   "cell_type": "markdown",
   "id": "327161f8-ae37-4431-82b5-1c2c5e9dec64",
   "metadata": {},
   "source": [
    "**np.ones()**"
   ]
  },
  {
   "cell_type": "code",
   "execution_count": 14,
   "id": "4f1eedaa-9920-4e5a-9c2b-d9e8ccd52302",
   "metadata": {},
   "outputs": [
    {
     "data": {
      "text/plain": [
       "array([[1., 1., 1.],\n",
       "       [1., 1., 1.]])"
      ]
     },
     "execution_count": 14,
     "metadata": {},
     "output_type": "execute_result"
    }
   ],
   "source": [
    "np.ones((2,3))"
   ]
  },
  {
   "cell_type": "markdown",
   "id": "eb0b66a0-a166-4001-8794-9362721db512",
   "metadata": {},
   "source": [
    "- (Q) What if we want create a matrix with all rows and columns filled with a number other than 0 and 1(say 2)?\n",
    "  - We can create manually\n",
    "  - Or we can do the following:"
   ]
  },
  {
   "cell_type": "code",
   "execution_count": 15,
   "id": "939695d5-b063-43c3-b92c-ec7c82876eda",
   "metadata": {},
   "outputs": [
    {
     "data": {
      "text/plain": [
       "array([[2., 2., 2.],\n",
       "       [2., 2., 2.]])"
      ]
     },
     "execution_count": 15,
     "metadata": {},
     "output_type": "execute_result"
    }
   ],
   "source": [
    "np.ones((2,3))+1"
   ]
  },
  {
   "cell_type": "code",
   "execution_count": 16,
   "id": "4266d201-4877-4cac-8e6a-2e071e3450ad",
   "metadata": {},
   "outputs": [
    {
     "data": {
      "text/plain": [
       "array([[2., 2., 2.],\n",
       "       [2., 2., 2.]])"
      ]
     },
     "execution_count": 16,
     "metadata": {},
     "output_type": "execute_result"
    }
   ],
   "source": [
    "np.zeros((2,3))+2"
   ]
  },
  {
   "cell_type": "markdown",
   "id": "68d41796-ab3f-4bfe-a797-279d5d44d28f",
   "metadata": {},
   "source": [
    "### Special matrixes"
   ]
  },
  {
   "cell_type": "markdown",
   "id": "a49e923a-c71a-4d1d-a125-60bab2e45d70",
   "metadata": {},
   "source": [
    "- **Square matrix and rectangular matrix:**\n",
    "  - Square matrix: A matrix with the same number of rows and columns. Shape is like (n,n)\n",
    "  - Rectangular matrix: A matrix with a different number of rows and columns. Typically, rectangular matrices are described by their dimensions as 𝑚×𝑛,\n",
    "where 𝑚≠𝑛"
   ]
  },
  {
   "cell_type": "markdown",
   "id": "4610cb11-89b7-4bb9-8f1d-9199574348f5",
   "metadata": {},
   "source": [
    "- **Symmetrix and Unsymmetric matrix**\n",
    "  - Symmetric matrix:\n",
    "    - A symmetric matrix is a square matrix where the element at position (i,j) is equal to the element at position (j,i).\n",
    "    - In simpler terms, a symmetric matrix is identical to its transpose (the matrix formed by swapping rows and columns).\n",
    "    - A symmetric matrix is symmetric with respect to the main diagonal (i.e. diagonal from left to right).\n",
    "  - Unsymmetric matrix:\n",
    "    - An unsymmetric matrix does not have the symmetry property. This means there exists at least one element A(i,j) that is not equal to A(j,i)."
   ]
  },
  {
   "cell_type": "code",
   "execution_count": null,
   "id": "889b126f-234c-4f08-9565-480fed3fed40",
   "metadata": {},
   "outputs": [],
   "source": [
    "# example of symmetric matrix\n",
    "[[1,2,3],\n",
    " [2,4,5],\n",
    " [3,5,6]]\n",
    "\n",
    "# example of unsymmetric matrix\n",
    "[[1,0,3],\n",
    " [2,4,5],\n",
    " [3,5,6]]"
   ]
  },
  {
   "cell_type": "markdown",
   "id": "f6202b5c-e598-4f74-bbad-c18d081ea88a",
   "metadata": {},
   "source": [
    "**Identity Matrix:**\n",
    "- An identity matrix is a symmetric and square matrix where:\n",
    "  - The main diagonal has values of 1\n",
    "  - All other elements (those not on the main diagonal) are 0"
   ]
  },
  {
   "cell_type": "code",
   "execution_count": 18,
   "id": "aae95c83-a2f1-490a-9957-92ab0dddb1fa",
   "metadata": {},
   "outputs": [
    {
     "data": {
      "text/plain": [
       "array([[1., 0., 0.],\n",
       "       [0., 1., 0.],\n",
       "       [0., 0., 1.]])"
      ]
     },
     "execution_count": 18,
     "metadata": {},
     "output_type": "execute_result"
    }
   ],
   "source": [
    "# creating an identity matrix in NumPy python:\n",
    "np.eye(3,3)"
   ]
  },
  {
   "cell_type": "code",
   "execution_count": 19,
   "id": "a78632fa-fa54-4ee3-ba3e-c08b2787a1d5",
   "metadata": {},
   "outputs": [
    {
     "data": {
      "text/plain": [
       "array([[1, 0],\n",
       "       [0, 1]])"
      ]
     },
     "execution_count": 19,
     "metadata": {},
     "output_type": "execute_result"
    }
   ],
   "source": [
    "np.eye(2,2, dtype=int)"
   ]
  },
  {
   "cell_type": "code",
   "execution_count": 20,
   "id": "52d07f5c-07bd-4101-8370-53d2e01b9a96",
   "metadata": {},
   "outputs": [
    {
     "ename": "TypeError",
     "evalue": "'tuple' object cannot be interpreted as an integer",
     "output_type": "error",
     "traceback": [
      "\u001b[1;31m---------------------------------------------------------------------------\u001b[0m",
      "\u001b[1;31mTypeError\u001b[0m                                 Traceback (most recent call last)",
      "Cell \u001b[1;32mIn[20], line 1\u001b[0m\n\u001b[1;32m----> 1\u001b[0m \u001b[43mnp\u001b[49m\u001b[38;5;241;43m.\u001b[39;49m\u001b[43meye\u001b[49m\u001b[43m(\u001b[49m\u001b[43m(\u001b[49m\u001b[38;5;241;43m2\u001b[39;49m\u001b[43m,\u001b[49m\u001b[38;5;241;43m2\u001b[39;49m\u001b[43m)\u001b[49m\u001b[43m,\u001b[49m\u001b[43m \u001b[49m\u001b[43mdtype\u001b[49m\u001b[38;5;241;43m=\u001b[39;49m\u001b[38;5;28;43mint\u001b[39;49m\u001b[43m)\u001b[49m\n",
      "File \u001b[1;32m~\\AppData\\Roaming\\Python\\Python312\\site-packages\\numpy\\lib\\_twodim_base_impl.py:224\u001b[0m, in \u001b[0;36meye\u001b[1;34m(N, M, k, dtype, order, device, like)\u001b[0m\n\u001b[0;32m    222\u001b[0m \u001b[38;5;28;01mif\u001b[39;00m M \u001b[38;5;129;01mis\u001b[39;00m \u001b[38;5;28;01mNone\u001b[39;00m:\n\u001b[0;32m    223\u001b[0m     M \u001b[38;5;241m=\u001b[39m N\n\u001b[1;32m--> 224\u001b[0m m \u001b[38;5;241m=\u001b[39m \u001b[43mzeros\u001b[49m\u001b[43m(\u001b[49m\u001b[43m(\u001b[49m\u001b[43mN\u001b[49m\u001b[43m,\u001b[49m\u001b[43m \u001b[49m\u001b[43mM\u001b[49m\u001b[43m)\u001b[49m\u001b[43m,\u001b[49m\u001b[43m \u001b[49m\u001b[43mdtype\u001b[49m\u001b[38;5;241;43m=\u001b[39;49m\u001b[43mdtype\u001b[49m\u001b[43m,\u001b[49m\u001b[43m \u001b[49m\u001b[43morder\u001b[49m\u001b[38;5;241;43m=\u001b[39;49m\u001b[43morder\u001b[49m\u001b[43m,\u001b[49m\u001b[43m \u001b[49m\u001b[43mdevice\u001b[49m\u001b[38;5;241;43m=\u001b[39;49m\u001b[43mdevice\u001b[49m\u001b[43m)\u001b[49m\n\u001b[0;32m    225\u001b[0m \u001b[38;5;28;01mif\u001b[39;00m k \u001b[38;5;241m>\u001b[39m\u001b[38;5;241m=\u001b[39m M:\n\u001b[0;32m    226\u001b[0m     \u001b[38;5;28;01mreturn\u001b[39;00m m\n",
      "\u001b[1;31mTypeError\u001b[0m: 'tuple' object cannot be interpreted as an integer"
     ]
    }
   ],
   "source": [
    "np.eye((2,2), dtype=int)"
   ]
  },
  {
   "cell_type": "markdown",
   "id": "e4259304-25b8-4531-8227-226f5e0b8e77",
   "metadata": {},
   "source": [
    "**Diagonal matrix:**\n",
    "- A diagonal matrix is a square matrix where all the elements outside the main diagonal are zero.\n",
    "- Only the elements on the main diagonal (from the top-left to the bottom-right) can have non-zero values.\n",
    "- For creating a diagonal matrix in Python we use np.diag() method."
   ]
  },
  {
   "cell_type": "code",
   "execution_count": 21,
   "id": "ad595a77-d0d8-46c0-ab74-30cae6ace3bd",
   "metadata": {},
   "outputs": [
    {
     "data": {
      "text/plain": [
       "array([[1, 0, 0, 0],\n",
       "       [0, 2, 0, 0],\n",
       "       [0, 0, 3, 0],\n",
       "       [0, 0, 0, 4]])"
      ]
     },
     "execution_count": 21,
     "metadata": {},
     "output_type": "execute_result"
    }
   ],
   "source": [
    "# case 1: When we pass 1-D list as the parameter to np.diag()- It creates a diagonal matrix with the list items along main diagonal\n",
    "np.diag([1,2,3,4])"
   ]
  },
  {
   "cell_type": "code",
   "execution_count": 22,
   "id": "0e0d64ab-5a09-4cd7-8761-a264d57e4724",
   "metadata": {},
   "outputs": [
    {
     "data": {
      "text/plain": [
       "array([ 1,  5, 30])"
      ]
     },
     "execution_count": 22,
     "metadata": {},
     "output_type": "execute_result"
    }
   ],
   "source": [
    "# case 2: when we pass 2-D list as the parameter to np.diag()- It creates a 1-D array with the items extracted from the main diagonal of 2-D list\n",
    "np.diag([[1,2,3],[4,5,6],[10,20,30]])  # array with diagonal elements=[1 5 30]"
   ]
  },
  {
   "cell_type": "markdown",
   "id": "61b0f196-9ebe-41cb-8d56-deb10f3ec5e7",
   "metadata": {},
   "source": [
    "### Indexing and slicing"
   ]
  },
  {
   "cell_type": "code",
   "execution_count": 23,
   "id": "66ed8358-c919-4f1a-82df-77ae03ea6d69",
   "metadata": {},
   "outputs": [
    {
     "name": "stdout",
     "output_type": "stream",
     "text": [
      "[[10 20 50]\n",
      " [30 40 60]\n",
      " [20 80 90]]\n"
     ]
    }
   ],
   "source": [
    "a=np.array([[10,20,50],[30,40,60],[20,80,90]])\n",
    "print(a)"
   ]
  },
  {
   "cell_type": "code",
   "execution_count": 26,
   "id": "bcb0e1ea-7667-4441-aabc-ef9beaa50950",
   "metadata": {},
   "outputs": [
    {
     "name": "stdout",
     "output_type": "stream",
     "text": [
      "[30 40 60]\n"
     ]
    }
   ],
   "source": [
    "# extracting a row:\n",
    "print(a[1])"
   ]
  },
  {
   "cell_type": "code",
   "execution_count": 27,
   "id": "09ec824e-0f11-4ca6-a99b-27ef2f20d8ae",
   "metadata": {},
   "outputs": [
    {
     "data": {
      "text/plain": [
       "np.int64(60)"
      ]
     },
     "execution_count": 27,
     "metadata": {},
     "output_type": "execute_result"
    }
   ],
   "source": [
    "# extracting one value\n",
    "a[1][2]"
   ]
  },
  {
   "cell_type": "code",
   "execution_count": 28,
   "id": "7457f9f4-ba50-4118-8748-12533b5ff6fd",
   "metadata": {},
   "outputs": [
    {
     "name": "stdout",
     "output_type": "stream",
     "text": [
      "60\n"
     ]
    }
   ],
   "source": [
    "print(a[1][2])"
   ]
  },
  {
   "cell_type": "code",
   "execution_count": 29,
   "id": "cc508b86-aed9-4199-8af6-b0179e65b063",
   "metadata": {},
   "outputs": [
    {
     "name": "stdout",
     "output_type": "stream",
     "text": [
      "50\n"
     ]
    }
   ],
   "source": [
    "# negative indexing is also possible\n",
    "print(a[-3][-1])"
   ]
  },
  {
   "cell_type": "code",
   "execution_count": 31,
   "id": "174130df-94c6-4a33-9ed4-739182733193",
   "metadata": {},
   "outputs": [
    {
     "data": {
      "text/plain": [
       "array([[30, 40, 60],\n",
       "       [20, 80, 90]])"
      ]
     },
     "execution_count": 31,
     "metadata": {},
     "output_type": "execute_result"
    }
   ],
   "source": [
    "# slicing:\n",
    "a[1:3]   # starting from row 1 to 3-1 =2nd row"
   ]
  },
  {
   "cell_type": "markdown",
   "id": "c2d3d4ef-bb1d-4e78-846e-6ae57713dcaf",
   "metadata": {},
   "source": [
    "### Replace/Assign the value"
   ]
  },
  {
   "cell_type": "markdown",
   "id": "ebd1b2f1-ee30-48a4-a3d8-9fbfef71ca5e",
   "metadata": {},
   "source": [
    "- replacing/assigning a single value:"
   ]
  },
  {
   "cell_type": "code",
   "execution_count": 34,
   "id": "9814e1c0-df29-4c7c-8cab-44b5a5469c3d",
   "metadata": {},
   "outputs": [
    {
     "data": {
      "text/plain": [
       "array([[ 10,  20,  50],\n",
       "       [ 30,  40,  60],\n",
       "       [ 20,  80, 500]])"
      ]
     },
     "execution_count": 34,
     "metadata": {},
     "output_type": "execute_result"
    }
   ],
   "source": [
    "a[2,2] = 500\n",
    "a"
   ]
  },
  {
   "cell_type": "markdown",
   "id": "0644edc6-ff65-4871-805c-e0fd9d92c9cf",
   "metadata": {},
   "source": [
    "- replacing/assigning a row:"
   ]
  },
  {
   "cell_type": "code",
   "execution_count": 35,
   "id": "dcc6bb2d-5c92-4e25-b29a-c4e864db469e",
   "metadata": {},
   "outputs": [
    {
     "data": {
      "text/plain": [
       "array([[ 10,  20,  50],\n",
       "       [100, 200, 500],\n",
       "       [ 20,  80, 500]])"
      ]
     },
     "execution_count": 35,
     "metadata": {},
     "output_type": "execute_result"
    }
   ],
   "source": [
    "a[1] = [100, 200, 500]\n",
    "a"
   ]
  },
  {
   "cell_type": "markdown",
   "id": "b33e0803-a57b-40a8-829b-8532caec03d9",
   "metadata": {},
   "source": [
    "### Flattening"
   ]
  },
  {
   "cell_type": "markdown",
   "id": "43a8f104-7d5b-4655-bc18-ad73eeb97764",
   "metadata": {},
   "source": [
    "- [[1st row elements], [2nd row elements]]  ---- (flattening) ----> [1st row elements, 2nd row elements]\n",
    "- For this we use np.ravel() method"
   ]
  },
  {
   "cell_type": "code",
   "execution_count": 37,
   "id": "fd150dd8-2cef-4128-8ec8-51db02a49936",
   "metadata": {},
   "outputs": [
    {
     "name": "stdout",
     "output_type": "stream",
     "text": [
      "[[0 1 2]\n",
      " [3 4 5]]\n",
      "[0 1 2 3 4 5]\n"
     ]
    }
   ],
   "source": [
    "# converting 2-D array to 1-D array:\n",
    "a = np.array([[0,1,2],[3,4,5]])\n",
    "print(a)\n",
    "\n",
    "b = a.ravel()\n",
    "print(b)"
   ]
  },
  {
   "cell_type": "markdown",
   "id": "1f9fe3ab-411b-412d-842b-f6b201ba11d0",
   "metadata": {},
   "source": [
    "### Reshaping array\n",
    "- Changing the shape\n",
    "- For example if we have an array of shape (6,) then we can reshape it to (1,6) or (2,3) or (3,2) or (6,1)"
   ]
  },
  {
   "cell_type": "code",
   "execution_count": 39,
   "id": "7b6c8496-d181-45fa-a2ac-2b78ce1bd756",
   "metadata": {},
   "outputs": [
    {
     "name": "stdout",
     "output_type": "stream",
     "text": [
      "[0 1 2 3 4 5]\n"
     ]
    },
    {
     "data": {
      "text/plain": [
       "(6,)"
      ]
     },
     "execution_count": 39,
     "metadata": {},
     "output_type": "execute_result"
    }
   ],
   "source": [
    "arr = np.arange(6)\n",
    "print(arr)\n",
    "arr.shape"
   ]
  },
  {
   "cell_type": "code",
   "execution_count": 40,
   "id": "b1cfef56-eac9-4f5e-a451-a2e6b28c531e",
   "metadata": {},
   "outputs": [
    {
     "data": {
      "text/plain": [
       "array([[0, 1, 2],\n",
       "       [3, 4, 5]])"
      ]
     },
     "execution_count": 40,
     "metadata": {},
     "output_type": "execute_result"
    }
   ],
   "source": [
    "a1 = arr.reshape(2,3)\n",
    "a1"
   ]
  },
  {
   "cell_type": "code",
   "execution_count": 42,
   "id": "08986fcc-aadf-4ba7-a7d1-854aeb146c2b",
   "metadata": {},
   "outputs": [
    {
     "data": {
      "text/plain": [
       "array([[0],\n",
       "       [1],\n",
       "       [2],\n",
       "       [3],\n",
       "       [4],\n",
       "       [5]])"
      ]
     },
     "execution_count": 42,
     "metadata": {},
     "output_type": "execute_result"
    }
   ],
   "source": [
    "arr.reshape(6,1)"
   ]
  },
  {
   "cell_type": "code",
   "execution_count": 43,
   "id": "7bcf5253-e278-41c4-b4ca-63a65c3bf6a2",
   "metadata": {},
   "outputs": [
    {
     "data": {
      "text/plain": [
       "array([[0, 1, 2, 3, 4, 5]])"
      ]
     },
     "execution_count": 43,
     "metadata": {},
     "output_type": "execute_result"
    }
   ],
   "source": [
    "arr.reshape(1,6)"
   ]
  },
  {
   "cell_type": "markdown",
   "id": "84924c27-65fb-4a7a-91a4-b2e01e4b9557",
   "metadata": {},
   "source": [
    "- **reshaping 2-D array:**"
   ]
  },
  {
   "cell_type": "code",
   "execution_count": 45,
   "id": "917e889c-86f0-4b92-9b7f-f2e97023b75e",
   "metadata": {},
   "outputs": [
    {
     "data": {
      "text/plain": [
       "(2, 3)"
      ]
     },
     "execution_count": 45,
     "metadata": {},
     "output_type": "execute_result"
    }
   ],
   "source": [
    "a = np.array([[0,1,5],[10,5,8]])  # matrix of shape (2,3)\n",
    "a.shape"
   ]
  },
  {
   "cell_type": "code",
   "execution_count": 46,
   "id": "586a74ef-faa8-4ff1-a5e3-b307e350ca3c",
   "metadata": {},
   "outputs": [],
   "source": [
    "# We can convert it to (1,6), (2,3), (3,2), and (6,1)"
   ]
  },
  {
   "cell_type": "code",
   "execution_count": 47,
   "id": "dea5f02d-2360-418d-97c1-3bb6de0958a4",
   "metadata": {},
   "outputs": [
    {
     "data": {
      "text/plain": [
       "array([[ 0,  1,  5, 10,  5,  8]])"
      ]
     },
     "execution_count": 47,
     "metadata": {},
     "output_type": "execute_result"
    }
   ],
   "source": [
    "a.reshape(1,6)"
   ]
  },
  {
   "cell_type": "code",
   "execution_count": 48,
   "id": "ddb044f4-d646-4d80-811f-54d3959fb742",
   "metadata": {},
   "outputs": [
    {
     "data": {
      "text/plain": [
       "array([[ 0],\n",
       "       [ 1],\n",
       "       [ 5],\n",
       "       [10],\n",
       "       [ 5],\n",
       "       [ 8]])"
      ]
     },
     "execution_count": 48,
     "metadata": {},
     "output_type": "execute_result"
    }
   ],
   "source": [
    "a.reshape(6,1)"
   ]
  },
  {
   "cell_type": "code",
   "execution_count": 50,
   "id": "1e9bd4ab-e52b-4c62-9b64-f3f7f709b700",
   "metadata": {},
   "outputs": [
    {
     "data": {
      "text/plain": [
       "array([[ 0,  1,  5],\n",
       "       [10,  5,  8]])"
      ]
     },
     "execution_count": 50,
     "metadata": {},
     "output_type": "execute_result"
    }
   ],
   "source": [
    "a.reshape(2,3)"
   ]
  },
  {
   "cell_type": "code",
   "execution_count": 51,
   "id": "18ef2877-29b6-4783-b364-651971e7231d",
   "metadata": {},
   "outputs": [
    {
     "data": {
      "text/plain": [
       "array([[ 0,  1],\n",
       "       [ 5, 10],\n",
       "       [ 5,  8]])"
      ]
     },
     "execution_count": 51,
     "metadata": {},
     "output_type": "execute_result"
    }
   ],
   "source": [
    "a.reshape(3,2)"
   ]
  },
  {
   "cell_type": "markdown",
   "id": "757b0581-7bb0-4c5d-887c-c718c84d0e30",
   "metadata": {},
   "source": [
    "- **transpose of a matrix**\n",
    "  - Interchanging of rows and columns"
   ]
  },
  {
   "cell_type": "code",
   "execution_count": 52,
   "id": "2df095cc-5e10-4c98-99c5-85d725464611",
   "metadata": {},
   "outputs": [
    {
     "data": {
      "text/plain": [
       "array([[1, 2, 3],\n",
       "       [4, 5, 6]])"
      ]
     },
     "execution_count": 52,
     "metadata": {},
     "output_type": "execute_result"
    }
   ],
   "source": [
    "a = np.array([[1,2,3],[4,5,6]])\n",
    "a"
   ]
  },
  {
   "cell_type": "code",
   "execution_count": 53,
   "id": "1d4f3924-424a-440d-9124-65a4c387b9f2",
   "metadata": {},
   "outputs": [
    {
     "data": {
      "text/plain": [
       "array([[1, 4],\n",
       "       [2, 5],\n",
       "       [3, 6]])"
      ]
     },
     "execution_count": 53,
     "metadata": {},
     "output_type": "execute_result"
    }
   ],
   "source": [
    "b = a.T   # transpose of a\n",
    "b"
   ]
  },
  {
   "cell_type": "markdown",
   "id": "12ae9615-06c8-453b-be5d-dc10ebd21ef8",
   "metadata": {},
   "source": [
    "### Sorting\n",
    "- row-sort vs columns-sort\n",
    "  - row-sort: sorting row items separately for each row i.e. each row will be sorted separately.\n",
    "  - column-sort: sorting column items separately for each column i.e. each column will be sorted separately\n",
    "- **Note:** For column-sort in NumPy we have to provide axis = 0 and for row-sort we provide axis = 1. **These values of axis is reverse in Pandas.**"
   ]
  },
  {
   "cell_type": "code",
   "execution_count": 54,
   "id": "4ad9b042-4046-4089-92b1-18cbe279e88d",
   "metadata": {},
   "outputs": [
    {
     "data": {
      "text/plain": [
       "array([[ 5,  4,  6],\n",
       "       [ 2,  8,  9],\n",
       "       [ 8,  9, 10]])"
      ]
     },
     "execution_count": 54,
     "metadata": {},
     "output_type": "execute_result"
    }
   ],
   "source": [
    "a = np.array([[5,4,6],[2,8,9],[8,9,10]])\n",
    "a"
   ]
  },
  {
   "cell_type": "code",
   "execution_count": 55,
   "id": "cba2b78c-caeb-4627-ac31-cae246a2eacb",
   "metadata": {},
   "outputs": [
    {
     "data": {
      "text/plain": [
       "array([[ 4,  5,  6],\n",
       "       [ 2,  8,  9],\n",
       "       [ 8,  9, 10]])"
      ]
     },
     "execution_count": 55,
     "metadata": {},
     "output_type": "execute_result"
    }
   ],
   "source": [
    "# sorting along an axis = 1 i.e. row\n",
    "np.sort(a,axis = 1)"
   ]
  },
  {
   "cell_type": "code",
   "execution_count": 56,
   "id": "f1034b48-73a3-4596-b0a0-c73f8cf3c612",
   "metadata": {},
   "outputs": [
    {
     "data": {
      "text/plain": [
       "array([[ 2,  4,  6],\n",
       "       [ 5,  8,  9],\n",
       "       [ 8,  9, 10]])"
      ]
     },
     "execution_count": 56,
     "metadata": {},
     "output_type": "execute_result"
    }
   ],
   "source": [
    "# sorting along an axis = 0 i.e. column\n",
    "np.sort(a,axis = 0)"
   ]
  },
  {
   "cell_type": "markdown",
   "id": "86ff10e3-07ac-4b80-a436-1827f558d443",
   "metadata": {},
   "source": [
    "### Mathematical Operations\n",
    "- Similar to 1-D arrays, shape must be same of 2-D arrays in order to perform mathematical operations between them else we will get ValueError."
   ]
  },
  {
   "cell_type": "code",
   "execution_count": 57,
   "id": "f918bafb-82fe-4cd4-aae0-4cb91c79d887",
   "metadata": {},
   "outputs": [
    {
     "name": "stdout",
     "output_type": "stream",
     "text": [
      "True\n"
     ]
    }
   ],
   "source": [
    "a = np.array([[1,2],[3,4],[5,6]])\n",
    "b = np.array([[40,4],[14,24],[34,44]])\n",
    "print(a.shape==b.shape)"
   ]
  },
  {
   "cell_type": "code",
   "execution_count": 58,
   "id": "a90faf80-a80d-420b-af9b-4be881578652",
   "metadata": {},
   "outputs": [
    {
     "data": {
      "text/plain": [
       "array([[1, 2],\n",
       "       [3, 4],\n",
       "       [5, 6]])"
      ]
     },
     "execution_count": 58,
     "metadata": {},
     "output_type": "execute_result"
    }
   ],
   "source": [
    "a"
   ]
  },
  {
   "cell_type": "code",
   "execution_count": 59,
   "id": "ee93a333-85d6-491f-abb8-0e8ef8080877",
   "metadata": {},
   "outputs": [
    {
     "data": {
      "text/plain": [
       "array([[40,  4],\n",
       "       [14, 24],\n",
       "       [34, 44]])"
      ]
     },
     "execution_count": 59,
     "metadata": {},
     "output_type": "execute_result"
    }
   ],
   "source": [
    "b"
   ]
  },
  {
   "cell_type": "code",
   "execution_count": 60,
   "id": "42f56ab0-87c0-48fa-9839-3d653711b398",
   "metadata": {},
   "outputs": [
    {
     "data": {
      "text/plain": [
       "array([[41,  6],\n",
       "       [17, 28],\n",
       "       [39, 50]])"
      ]
     },
     "execution_count": 60,
     "metadata": {},
     "output_type": "execute_result"
    }
   ],
   "source": [
    "a+b   # elements at corresponding indexes will be added (i.e. elementwise addition)"
   ]
  },
  {
   "cell_type": "code",
   "execution_count": 61,
   "id": "4803bfff-a74b-4d6f-bdd0-a525badb3def",
   "metadata": {},
   "outputs": [
    {
     "data": {
      "text/plain": [
       "array([[ 40,   8],\n",
       "       [ 42,  96],\n",
       "       [170, 264]])"
      ]
     },
     "execution_count": 61,
     "metadata": {},
     "output_type": "execute_result"
    }
   ],
   "source": [
    "a*b   # elements at corresponding indexes will be multiplied (i.e. elementwise multiplication a.k.a dot product of matrix)"
   ]
  },
  {
   "cell_type": "code",
   "execution_count": 62,
   "id": "27fe6d59-7415-48e0-b627-b466bf353cac",
   "metadata": {},
   "outputs": [
    {
     "ename": "ValueError",
     "evalue": "setting an array element with a sequence. The requested array has an inhomogeneous shape after 1 dimensions. The detected shape was (3,) + inhomogeneous part.",
     "output_type": "error",
     "traceback": [
      "\u001b[1;31m---------------------------------------------------------------------------\u001b[0m",
      "\u001b[1;31mValueError\u001b[0m                                Traceback (most recent call last)",
      "Cell \u001b[1;32mIn[62], line 2\u001b[0m\n\u001b[0;32m      1\u001b[0m \u001b[38;5;66;03m# what if shapes are not equal\u001b[39;00m\n\u001b[1;32m----> 2\u001b[0m c \u001b[38;5;241m=\u001b[39m \u001b[43mnp\u001b[49m\u001b[38;5;241;43m.\u001b[39;49m\u001b[43marray\u001b[49m\u001b[43m(\u001b[49m\u001b[43m[\u001b[49m\u001b[43m[\u001b[49m\u001b[38;5;241;43m40\u001b[39;49m\u001b[43m,\u001b[49m\u001b[38;5;241;43m4\u001b[39;49m\u001b[43m,\u001b[49m\u001b[38;5;241;43m2\u001b[39;49m\u001b[43m]\u001b[49m\u001b[43m,\u001b[49m\u001b[43m[\u001b[49m\u001b[38;5;241;43m14\u001b[39;49m\u001b[43m,\u001b[49m\u001b[38;5;241;43m24\u001b[39;49m\u001b[43m]\u001b[49m\u001b[43m,\u001b[49m\u001b[43m[\u001b[49m\u001b[38;5;241;43m34\u001b[39;49m\u001b[43m,\u001b[49m\u001b[38;5;241;43m44\u001b[39;49m\u001b[43m]\u001b[49m\u001b[43m]\u001b[49m\u001b[43m)\u001b[49m\n\u001b[0;32m      3\u001b[0m a\u001b[38;5;241m+\u001b[39mc\n",
      "\u001b[1;31mValueError\u001b[0m: setting an array element with a sequence. The requested array has an inhomogeneous shape after 1 dimensions. The detected shape was (3,) + inhomogeneous part."
     ]
    }
   ],
   "source": [
    "# what if shapes are not equal\n",
    "c = np.array([[40,4,2],[14,24],[34,44]])\n",
    "a+c"
   ]
  },
  {
   "cell_type": "markdown",
   "id": "e27c7a8f-26da-473b-a041-57df4fa0a016",
   "metadata": {},
   "source": [
    "- **What if we want matrix multiplication but not dot product?**\n",
    "  - For this we have np.matmul() method"
   ]
  },
  {
   "cell_type": "code",
   "execution_count": 63,
   "id": "ba1f9fd4-6ce3-4b8d-ab57-64428be6f668",
   "metadata": {},
   "outputs": [
    {
     "data": {
      "text/plain": [
       "array([[19, 22],\n",
       "       [43, 50]])"
      ]
     },
     "execution_count": 63,
     "metadata": {},
     "output_type": "execute_result"
    }
   ],
   "source": [
    "a = np.array([[1,2],[3,4]])\n",
    "b = np.array([[5,6],[7,8]])\n",
    "np.matmul(a,b)"
   ]
  },
  {
   "cell_type": "markdown",
   "id": "00762d08-89e0-4ee9-aaa9-13265a072404",
   "metadata": {},
   "source": [
    "### Concatening/Joining multiple 2-D arrays"
   ]
  },
  {
   "cell_type": "code",
   "execution_count": 64,
   "id": "4d6db82f-93d9-423e-a2a5-0eb14c80ba99",
   "metadata": {},
   "outputs": [
    {
     "name": "stdout",
     "output_type": "stream",
     "text": [
      "[[1 2]\n",
      " [3 4]]\n"
     ]
    },
    {
     "data": {
      "text/plain": [
       "array([[5, 6],\n",
       "       [7, 8]])"
      ]
     },
     "execution_count": 64,
     "metadata": {},
     "output_type": "execute_result"
    }
   ],
   "source": [
    "a = np.array([[1,2],[3,4]])\n",
    "b = np.array([[5,6],[7,8]])\n",
    "print(a)\n",
    "b"
   ]
  },
  {
   "cell_type": "markdown",
   "id": "b70083f7-3070-4ba9-9e23-fc775b7ecd69",
   "metadata": {},
   "source": [
    "- when we want vertical concatentaion i.e. concatenation along column:"
   ]
  },
  {
   "cell_type": "code",
   "execution_count": 66,
   "id": "e6b913ae-bed3-4ccb-98e6-6252499cae1d",
   "metadata": {},
   "outputs": [
    {
     "data": {
      "text/plain": [
       "array([[1, 2],\n",
       "       [3, 4],\n",
       "       [5, 6],\n",
       "       [7, 8]])"
      ]
     },
     "execution_count": 66,
     "metadata": {},
     "output_type": "execute_result"
    }
   ],
   "source": [
    "# using np.concatenate() method:\n",
    "np.concatenate((a,b),axis=0)"
   ]
  },
  {
   "cell_type": "code",
   "execution_count": 69,
   "id": "4f694c18-76b0-42db-872a-a511e4db7bed",
   "metadata": {},
   "outputs": [
    {
     "data": {
      "text/plain": [
       "array([[1, 2],\n",
       "       [3, 4],\n",
       "       [5, 6],\n",
       "       [7, 8]])"
      ]
     },
     "execution_count": 69,
     "metadata": {},
     "output_type": "execute_result"
    }
   ],
   "source": [
    "# using np.vstack() method:\n",
    "np.vstack((a,b))"
   ]
  },
  {
   "cell_type": "markdown",
   "id": "8ba9375d-ceb7-48e4-b7e8-4c40bf5002d7",
   "metadata": {},
   "source": [
    "- when we want horizontal concatentaion i.e. concatenation along row:"
   ]
  },
  {
   "cell_type": "code",
   "execution_count": 70,
   "id": "09e5890c-c5b9-4a3a-b05c-8274cb519548",
   "metadata": {},
   "outputs": [
    {
     "data": {
      "text/plain": [
       "array([[1, 2, 5, 6],\n",
       "       [3, 4, 7, 8]])"
      ]
     },
     "execution_count": 70,
     "metadata": {},
     "output_type": "execute_result"
    }
   ],
   "source": [
    "# using np.concatenate() method:\n",
    "np.concatenate((a,b),axis=1)"
   ]
  },
  {
   "cell_type": "code",
   "execution_count": 71,
   "id": "9a44ac7d-e0a6-42d2-b17b-04999cb38d90",
   "metadata": {},
   "outputs": [
    {
     "data": {
      "text/plain": [
       "array([[1, 2, 5, 6],\n",
       "       [3, 4, 7, 8]])"
      ]
     },
     "execution_count": 71,
     "metadata": {},
     "output_type": "execute_result"
    }
   ],
   "source": [
    "# using np.hstack() method:\n",
    "np.hstack((a,b))"
   ]
  },
  {
   "cell_type": "markdown",
   "id": "f8a98fcb-c206-4276-bfd2-cf90f0f6108d",
   "metadata": {},
   "source": [
    "### Note:\n",
    "- In Pandas:\n",
    "  - 1-D array is called Series\n",
    "  - 2-D array is called Data frame.\n",
    "- **Generally**\n",
    "  - Whenever we have 1-D array related stuff we go for NumPy\n",
    "  - Whenever we have 2-D array related stuff we go for Pandas (Data frame)"
   ]
  }
 ],
 "metadata": {
  "kernelspec": {
   "display_name": "Python 3 (ipykernel)",
   "language": "python",
   "name": "python3"
  },
  "language_info": {
   "codemirror_mode": {
    "name": "ipython",
    "version": 3
   },
   "file_extension": ".py",
   "mimetype": "text/x-python",
   "name": "python",
   "nbconvert_exporter": "python",
   "pygments_lexer": "ipython3",
   "version": "3.12.4"
  }
 },
 "nbformat": 4,
 "nbformat_minor": 5
}
