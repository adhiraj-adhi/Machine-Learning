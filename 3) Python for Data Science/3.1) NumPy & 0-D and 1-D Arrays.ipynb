{
 "cells": [
  {
   "cell_type": "markdown",
   "id": "1041b1a0-0240-41dc-93c6-0fa89e0ff954",
   "metadata": {},
   "source": [
    "# 3.1) NumPy & 0-D and 1-D Arrays"
   ]
  },
  {
   "cell_type": "markdown",
   "id": "9977d122-9f2d-4f91-b4fc-8b4baa58233e",
   "metadata": {},
   "source": [
    "- **Num**erical **Py**thon\n",
    "- NumPy is a core Python library for scientific computing, making it easier and faster (faster because it’s implemented in C and optimized for performance) to work with numbers and large datasets.\n",
    "- The main feature of NumPy is the ndarray, a powerful, multi-dimensional array that allows us to store data in an organized grid. This is much faster and more memory-efficient than Python’s regular lists, especially when dealing with large amounts of data.\n",
    "- Beyond just storing data, NumPy includes a wide range of functions to perform complex tasks directly on these arrays, such as:\n",
    "  - Math and Statistics: It has tools for performing mathematical calculations, statistical analysis, and random number generation.\n",
    "  - Data Manipulation: We can reshape, sort, and filter arrays easily.\n",
    "  - Linear Algebra and Fourier Transforms: It supports more advanced operations like matrix multiplication and signal processing.\n",
    "  - Compatibility with Other Libraries: NumPy is widely used in data science and is the backbone of other libraries like pandas and SciPy.\n",
    "- 3-D NumPy arrays are used when we work with images/videos.\n",
    "- To install a module say numpy we can go to CMD -> Navigate to directory where Python.exe file is present -> Run command pip install module_name\n",
    "- Broadcasting: NumPy supports broadcasting, allowing you to perform operations between arrays of different shapes, which is particularly helpful in handling matrix operations."
   ]
  },
  {
   "cell_type": "markdown",
   "id": "647c5bfe-fd32-42b3-9a9e-f6eeecc770d7",
   "metadata": {},
   "source": [
    "### 0-D NumPy Arrays"
   ]
  },
  {
   "cell_type": "code",
   "execution_count": 2,
   "id": "dc4afdd7-3052-4e7e-a1ef-26481c670e28",
   "metadata": {},
   "outputs": [
    {
     "name": "stdout",
     "output_type": "stream",
     "text": [
      "45\n",
      "Type of a: <class 'int'>\n",
      "NumPy array: 45\n",
      "<class 'numpy.ndarray'>\n"
     ]
    }
   ],
   "source": [
    "import numpy as np    # importing numpy library\n",
    "a = 45  # when we convert fundamental Python types (like int, float, or single strings) to a NumPy array, they become 0-D arrays.\n",
    "print(a)\n",
    "print(\"Type of a:\",type(a))\n",
    "# converting to numpy array of 0-D:\n",
    "arr_0 = np.array(a)\n",
    "print(\"NumPy array:\",arr_0)\n",
    "print(type(arr_0))"
   ]
  },
  {
   "cell_type": "code",
   "execution_count": 3,
   "id": "b0ef17ee-c7e1-4346-acd4-86b76bc0b60d",
   "metadata": {},
   "outputs": [
    {
     "data": {
      "text/plain": [
       "0"
      ]
     },
     "execution_count": 3,
     "metadata": {},
     "output_type": "execute_result"
    }
   ],
   "source": [
    "# Now to get dimension of arr_0 array we can do:\n",
    "arr_0.ndim"
   ]
  },
  {
   "cell_type": "markdown",
   "id": "1dc2f6f0-129c-4ccb-830b-335614253a4f",
   "metadata": {},
   "source": [
    "**shape of array:**\n",
    "- In an n-dimensional NumPy array, the shape is a property that describes the size of each dimension. \n",
    "- It tells us how many elements exist along each axis (dimension) of the array. The shape is represented as a tuple, where each value in the tuple corresponds to the number of elements along a particular dimension.\n",
    "- Example:\n",
    "  - Shape: () -> This means it has 0 dimensions. Like a single number has no dimensions\n",
    "  - Shape: (4,) → This means it has 1 dimension with 4 elements along it.\n",
    "  - Shape: (2, 3) → This means it has 2 dimensions. The first dimension (rows) has 2 elements, and the second dimension (columns) has 3 elements."
   ]
  },
  {
   "cell_type": "code",
   "execution_count": 4,
   "id": "6d91afa3-0926-4af9-a74a-3e58e97fc52b",
   "metadata": {},
   "outputs": [
    {
     "data": {
      "text/plain": [
       "()"
      ]
     },
     "execution_count": 4,
     "metadata": {},
     "output_type": "execute_result"
    }
   ],
   "source": [
    "# To get shape of arr_0 we can do:\n",
    "arr_0.shape"
   ]
  },
  {
   "cell_type": "markdown",
   "id": "432e4661-bc77-4817-bfcb-ed8502973288",
   "metadata": {},
   "source": [
    "### 1-D NumPy Arrays"
   ]
  },
  {
   "cell_type": "markdown",
   "id": "e1e3ab49-f274-4e65-b8e1-e8aa0beda6bf",
   "metadata": {},
   "source": [
    "**converting a list to array:**"
   ]
  },
  {
   "cell_type": "code",
   "execution_count": 5,
   "id": "c610ab8f-77ca-4880-b89b-4047911c0fdd",
   "metadata": {},
   "outputs": [
    {
     "name": "stdout",
     "output_type": "stream",
     "text": [
      "[1, 2, 3, 4]\n",
      "<class 'list'>\n"
     ]
    }
   ],
   "source": [
    "a = [1, 2, 3, 4]\n",
    "print(a)\n",
    "print(type(a))"
   ]
  },
  {
   "cell_type": "code",
   "execution_count": 6,
   "id": "328d8b20-fac5-4d92-b319-260e695685a9",
   "metadata": {},
   "outputs": [
    {
     "name": "stdout",
     "output_type": "stream",
     "text": [
      "[1 2 3 4]\n"
     ]
    },
    {
     "data": {
      "text/plain": [
       "array([1, 2, 3, 4])"
      ]
     },
     "execution_count": 6,
     "metadata": {},
     "output_type": "execute_result"
    }
   ],
   "source": [
    "import numpy as np\n",
    "arr_11 = np.array(a)\n",
    "print(arr_11)\n",
    "arr_11"
   ]
  },
  {
   "cell_type": "code",
   "execution_count": 16,
   "id": "87037021-e97a-4696-aae1-5d3ead508230",
   "metadata": {},
   "outputs": [
    {
     "data": {
      "text/plain": [
       "1"
      ]
     },
     "execution_count": 16,
     "metadata": {},
     "output_type": "execute_result"
    }
   ],
   "source": [
    "arr_11.ndim"
   ]
  },
  {
   "cell_type": "code",
   "execution_count": 15,
   "id": "1f46e8a8-b3be-4a06-88d9-fcb1284416bd",
   "metadata": {},
   "outputs": [
    {
     "data": {
      "text/plain": [
       "(4,)"
      ]
     },
     "execution_count": 15,
     "metadata": {},
     "output_type": "execute_result"
    }
   ],
   "source": [
    "arr_11.shape"
   ]
  },
  {
   "cell_type": "markdown",
   "id": "0c8c3e31-a9a0-4b11-ab14-0ffb04b39b69",
   "metadata": {},
   "source": [
    "**converting a tuple to array:**"
   ]
  },
  {
   "cell_type": "code",
   "execution_count": 17,
   "id": "e0d1c1dd-a8e8-47ea-9fc8-19fe882a0497",
   "metadata": {},
   "outputs": [
    {
     "name": "stdout",
     "output_type": "stream",
     "text": [
      "[1 2 5]\n"
     ]
    },
    {
     "data": {
      "text/plain": [
       "array([1, 2, 5])"
      ]
     },
     "execution_count": 17,
     "metadata": {},
     "output_type": "execute_result"
    }
   ],
   "source": [
    "tup = (1, 2, 5)\n",
    "arr_12 = np.array(tup)\n",
    "print(arr_12)\n",
    "arr_12"
   ]
  },
  {
   "cell_type": "code",
   "execution_count": 18,
   "id": "6fd19f5e-a9ef-465b-b35d-b1558f2fa8a5",
   "metadata": {},
   "outputs": [
    {
     "data": {
      "text/plain": [
       "1"
      ]
     },
     "execution_count": 18,
     "metadata": {},
     "output_type": "execute_result"
    }
   ],
   "source": [
    "arr_12.ndim"
   ]
  },
  {
   "cell_type": "code",
   "execution_count": 20,
   "id": "5cdd9111-8345-4719-bf75-9530de507194",
   "metadata": {},
   "outputs": [
    {
     "data": {
      "text/plain": [
       "(3,)"
      ]
     },
     "execution_count": 20,
     "metadata": {},
     "output_type": "execute_result"
    }
   ],
   "source": [
    "arr_12.shape"
   ]
  },
  {
   "cell_type": "markdown",
   "id": "fc972870-dc12-4544-950d-8bbbb9c3de62",
   "metadata": {},
   "source": [
    "**converting a set to array:**"
   ]
  },
  {
   "cell_type": "code",
   "execution_count": 9,
   "id": "5986dae5-2c15-4972-980a-decdd7e06ad4",
   "metadata": {},
   "outputs": [
    {
     "data": {
      "text/plain": [
       "array({8, 1, 2, 4}, dtype=object)"
      ]
     },
     "execution_count": 9,
     "metadata": {},
     "output_type": "execute_result"
    }
   ],
   "source": [
    "s = {1, 2, 4, 8}\n",
    "arr_13 = np.array(s)\n",
    "arr_13"
   ]
  },
  {
   "cell_type": "code",
   "execution_count": 10,
   "id": "fb200254-683c-42c4-b1df-74b1e86d81e7",
   "metadata": {},
   "outputs": [
    {
     "name": "stdout",
     "output_type": "stream",
     "text": [
      "{8, 1, 2, 4}\n"
     ]
    }
   ],
   "source": [
    "print(arr_13)"
   ]
  },
  {
   "cell_type": "code",
   "execution_count": 11,
   "id": "6295151f-ed14-44d5-8e0d-a2f14be1f8d5",
   "metadata": {},
   "outputs": [
    {
     "name": "stdout",
     "output_type": "stream",
     "text": [
      "<class 'numpy.ndarray'>\n"
     ]
    }
   ],
   "source": [
    "print(type(arr_13))"
   ]
  },
  {
   "cell_type": "code",
   "execution_count": 21,
   "id": "e2544021-49dc-41eb-a794-76580bf4b38f",
   "metadata": {},
   "outputs": [],
   "source": [
    "# It seems that we have converted set to array successfully. But it is not so, we can see the problem when we check the dimension and shape"
   ]
  },
  {
   "cell_type": "code",
   "execution_count": 12,
   "id": "395f72b2-3f36-4fd4-8312-458a1a1b5e25",
   "metadata": {},
   "outputs": [
    {
     "data": {
      "text/plain": [
       "0"
      ]
     },
     "execution_count": 12,
     "metadata": {},
     "output_type": "execute_result"
    }
   ],
   "source": [
    "arr_13.ndim"
   ]
  },
  {
   "cell_type": "code",
   "execution_count": 26,
   "id": "5e81630c-d45d-4448-ba57-31b0b816c5c8",
   "metadata": {},
   "outputs": [
    {
     "data": {
      "text/plain": [
       "()"
      ]
     },
     "execution_count": 26,
     "metadata": {},
     "output_type": "execute_result"
    }
   ],
   "source": [
    "arr_13.shape"
   ]
  },
  {
   "cell_type": "markdown",
   "id": "8e49ed89-2a07-40f3-a973-4943a6338177",
   "metadata": {},
   "source": [
    "- To convert a set to a NumPy array, we need to first convert the set to a list (or another ordered sequence say tuple).\n",
    "- When we directly pass a set to np.array(), NumPy recognizes the set as a single object rather than iterating over its elements. This results in a 0-D array containing the set itself, rather than an array of its elements."
   ]
  },
  {
   "cell_type": "code",
   "execution_count": 22,
   "id": "0f28059f-6199-4a04-a14a-c260e74d6aed",
   "metadata": {},
   "outputs": [
    {
     "name": "stdout",
     "output_type": "stream",
     "text": [
      "[8 1 2 4]\n"
     ]
    }
   ],
   "source": [
    "# correct way:\n",
    "arr_14 = np.array(list(s))\n",
    "print(arr_14)"
   ]
  },
  {
   "cell_type": "code",
   "execution_count": 24,
   "id": "4e1ffca5-315e-4bf9-9f25-8c0adb4d395d",
   "metadata": {},
   "outputs": [
    {
     "data": {
      "text/plain": [
       "1"
      ]
     },
     "execution_count": 24,
     "metadata": {},
     "output_type": "execute_result"
    }
   ],
   "source": [
    "arr_14.ndim"
   ]
  },
  {
   "cell_type": "code",
   "execution_count": 25,
   "id": "4172c3c7-955d-4dca-90cc-6de13c747a5f",
   "metadata": {},
   "outputs": [
    {
     "data": {
      "text/plain": [
       "(4,)"
      ]
     },
     "execution_count": 25,
     "metadata": {},
     "output_type": "execute_result"
    }
   ],
   "source": [
    "arr_14.shape"
   ]
  },
  {
   "cell_type": "markdown",
   "id": "a498b5f4-76c6-4924-a854-2520937863de",
   "metadata": {},
   "source": [
    "#### Functions for creating 1D array:"
   ]
  },
  {
   "cell_type": "markdown",
   "id": "d366c3ec-8588-4a3a-87df-ce6e7e65ade9",
   "metadata": {},
   "source": [
    "**i. arange():**\n",
    "- It is same as range() function but arange() gives the value in range as an array. In other words we can say that arange() gives an array-valued version of the built-in Python range function.\n",
    "- **Syntax:** np.arange(start, end, step)"
   ]
  },
  {
   "cell_type": "code",
   "execution_count": 29,
   "id": "f47a7d3b-a4a4-4b0a-a272-4dbc5d44a4e0",
   "metadata": {},
   "outputs": [
    {
     "name": "stdout",
     "output_type": "stream",
     "text": [
      "[1 3 5 7 9]\n"
     ]
    },
    {
     "data": {
      "text/plain": [
       "array([1, 3, 5, 7, 9])"
      ]
     },
     "execution_count": 29,
     "metadata": {},
     "output_type": "execute_result"
    }
   ],
   "source": [
    "arr_15 = np.arange(1, 10, 2)\n",
    "print(arr_15)\n",
    "arr_15"
   ]
  },
  {
   "cell_type": "markdown",
   "id": "876abc63-696e-4748-b9e5-67c60f482d1d",
   "metadata": {},
   "source": [
    "**ii. linspace():**\n",
    "- The np.linspace() function in NumPy generates an array of evenly spaced values over a specified interval.\n",
    "- It’s particularly useful when we need a specific number of values within a range, which is common in scientific and mathematical computations.\n",
    "- Syntax: np.linspace(start, stop, num=50, endpoint=True, retstep=False, dtype=None)\n",
    "- Example: np.linspace(0,5,6) will break down [0,5] in 6 equal interval so we will get o/p as [0., 1., 2., 3., 4., 5.]\n",
    "- Interval_size = (end-start)/((num_of_samples i.e. intervals) - 1)"
   ]
  },
  {
   "cell_type": "code",
   "execution_count": 32,
   "id": "3b36beb5-22c7-48aa-8b86-ed31081ee824",
   "metadata": {},
   "outputs": [
    {
     "data": {
      "text/plain": [
       "array([0., 1., 2., 3., 4., 5.])"
      ]
     },
     "execution_count": 32,
     "metadata": {},
     "output_type": "execute_result"
    }
   ],
   "source": [
    "arr_16 = np.linspace(0,5, 6)\n",
    "arr_16"
   ]
  },
  {
   "cell_type": "markdown",
   "id": "ac798a88-af75-4247-b328-3c0e6dbdf9a3",
   "metadata": {},
   "source": [
    "**iii. zeros():**\n",
    "- Generates array of zeros\n",
    "- Syntax: zeros(shape, dtype=float, order='C', *, like=None)\n",
    "  - shape = tuple (except in 1D we can simply provide value instead of tuple)\n",
    "  - dtype = float by default"
   ]
  },
  {
   "cell_type": "code",
   "execution_count": 33,
   "id": "fe245441-051f-41c3-bf63-5b4b0110c523",
   "metadata": {},
   "outputs": [
    {
     "data": {
      "text/plain": [
       "array([0., 0., 0., 0.])"
      ]
     },
     "execution_count": 33,
     "metadata": {},
     "output_type": "execute_result"
    }
   ],
   "source": [
    "arr_17 = np.zeros((4,))\n",
    "arr_17"
   ]
  },
  {
   "cell_type": "code",
   "execution_count": 35,
   "id": "7e9531bf-d94c-4a85-b231-234aed0ad32e",
   "metadata": {},
   "outputs": [
    {
     "name": "stdout",
     "output_type": "stream",
     "text": [
      "1\n"
     ]
    },
    {
     "data": {
      "text/plain": [
       "array([0., 0., 0., 0.])"
      ]
     },
     "execution_count": 35,
     "metadata": {},
     "output_type": "execute_result"
    }
   ],
   "source": [
    "arr_18 = np.zeros(4) # provide value instead of tuple in shape\n",
    "print(arr_18.ndim)\n",
    "arr_18"
   ]
  },
  {
   "cell_type": "code",
   "execution_count": 38,
   "id": "f6699ad6-2d05-4940-8769-7fcf34abfa1e",
   "metadata": {},
   "outputs": [
    {
     "data": {
      "text/plain": [
       "array([0, 0, 0, 0])"
      ]
     },
     "execution_count": 38,
     "metadata": {},
     "output_type": "execute_result"
    }
   ],
   "source": [
    "arr_19 = np.zeros((4,), dtype =int)\n",
    "arr_19"
   ]
  },
  {
   "cell_type": "markdown",
   "id": "ce549613-84f5-436b-a294-587e01c3673d",
   "metadata": {},
   "source": [
    "**iv. ones():**\n",
    "- Same as zeros() but it gives array of ones"
   ]
  },
  {
   "cell_type": "code",
   "execution_count": 40,
   "id": "ee6c3cba-4be7-4cab-ab96-251a675f3fde",
   "metadata": {},
   "outputs": [
    {
     "data": {
      "text/plain": [
       "array([1., 1., 1.])"
      ]
     },
     "execution_count": 40,
     "metadata": {},
     "output_type": "execute_result"
    }
   ],
   "source": [
    "arr_20 = np.ones((3,))\n",
    "arr_20"
   ]
  },
  {
   "cell_type": "markdown",
   "id": "3f18c1e5-b959-4e35-ae1e-6bcd29ef4e8e",
   "metadata": {},
   "source": [
    "**v. random.randint():**\n",
    "- returns random integer as an array from start(inclusive) to end(exclusive)\n",
    "- Syntax: np.random.randint(start, end, num_of_samples)\n",
    "- Note: It is part of numpy module and not of random module else we would have to import random module to use it"
   ]
  },
  {
   "cell_type": "code",
   "execution_count": 42,
   "id": "617dceff-528e-4a7e-9a18-9218881da8bf",
   "metadata": {},
   "outputs": [
    {
     "data": {
      "text/plain": [
       "[29, 44, 96, 75, 72]"
      ]
     },
     "execution_count": 42,
     "metadata": {},
     "output_type": "execute_result"
    }
   ],
   "source": [
    "# Problem with random modules randint(): Suppose we were to generate 5 random values in the range [1,100) then:-\n",
    "import random\n",
    "l = []\n",
    "for i in range(5):\n",
    "    l.append(random.randint(1,100))\n",
    "l"
   ]
  },
  {
   "cell_type": "code",
   "execution_count": 43,
   "id": "f05adbc4-6085-470f-a08e-dfb2755ce50a",
   "metadata": {},
   "outputs": [
    {
     "data": {
      "text/plain": [
       "array([98,  6, 59, 92, 55], dtype=int32)"
      ]
     },
     "execution_count": 43,
     "metadata": {},
     "output_type": "execute_result"
    }
   ],
   "source": [
    "# Just one line of code for generating five random values in [1,100) using numpy\n",
    "a = np.random.randint(1,100,5)\n",
    "a"
   ]
  },
  {
   "cell_type": "markdown",
   "id": "bc2531ce-b06d-4ec5-9da4-05fe3c71917c",
   "metadata": {},
   "source": [
    "### Accessing elements/ Extracting the values\n",
    "1. Accessing a single value through indexing\n",
    "2. Accessing multiple values based on slicing\n",
    "3. Accessing multiple values based on indexing\n",
    "4. Accessing multiple value based on condition"
   ]
  },
  {
   "cell_type": "code",
   "execution_count": 44,
   "id": "5eb02b26-e141-4888-b8a2-eb3fecb25d00",
   "metadata": {},
   "outputs": [
    {
     "name": "stdout",
     "output_type": "stream",
     "text": [
      "[100 120 130 190 200  14  18  26]\n"
     ]
    }
   ],
   "source": [
    "a = np.array([100,120,130,190,200,14,18,26])\n",
    "print(a)"
   ]
  },
  {
   "cell_type": "markdown",
   "id": "43a06f7c-04ff-477f-95e3-94604fe7e2d9",
   "metadata": {},
   "source": [
    "**1. Accessing a single value through indexing**"
   ]
  },
  {
   "cell_type": "code",
   "execution_count": 46,
   "id": "97fa100a-022f-4162-89cb-0da0e542e21c",
   "metadata": {},
   "outputs": [
    {
     "name": "stdout",
     "output_type": "stream",
     "text": [
      "120\n"
     ]
    },
    {
     "data": {
      "text/plain": [
       "np.int64(120)"
      ]
     },
     "execution_count": 46,
     "metadata": {},
     "output_type": "execute_result"
    }
   ],
   "source": [
    "# positive indexing\n",
    "print(a[1])\n",
    "a[1]"
   ]
  },
  {
   "cell_type": "code",
   "execution_count": 47,
   "id": "95fc038e-3867-450d-955d-250a1b6ee334",
   "metadata": {},
   "outputs": [
    {
     "name": "stdout",
     "output_type": "stream",
     "text": [
      "26\n"
     ]
    }
   ],
   "source": [
    "# negative indexing\n",
    "print(a[-1])"
   ]
  },
  {
   "cell_type": "markdown",
   "id": "0c85f687-648b-4077-a2c1-0c233e8105de",
   "metadata": {},
   "source": [
    "**2. Accessing multiple values based on slicing**"
   ]
  },
  {
   "cell_type": "code",
   "execution_count": 48,
   "id": "3251f182-ca0e-4f6c-b582-22cf5d93a3f8",
   "metadata": {},
   "outputs": [
    {
     "name": "stdout",
     "output_type": "stream",
     "text": [
      "[100 130 200]\n"
     ]
    }
   ],
   "source": [
    "print(a[0:5:2])   # we will get items at index 0,2,4"
   ]
  },
  {
   "cell_type": "markdown",
   "id": "49d08b1c-bcf6-4c3e-a1b5-46541ae2e440",
   "metadata": {},
   "source": [
    "**3. Accessing multiple values based on indexing**\n",
    "- Syntax: array[list/tuple of indexes]"
   ]
  },
  {
   "cell_type": "code",
   "execution_count": 49,
   "id": "4a855e1c-d1fe-4516-9676-e1c2bf3c6c7b",
   "metadata": {},
   "outputs": [
    {
     "data": {
      "text/plain": [
       "array([120, 130, 200])"
      ]
     },
     "execution_count": 49,
     "metadata": {},
     "output_type": "execute_result"
    }
   ],
   "source": [
    "a[[1,2,4]]"
   ]
  },
  {
   "cell_type": "code",
   "execution_count": 60,
   "id": "34ff7305-67f7-49fd-8dd3-96d91c862241",
   "metadata": {},
   "outputs": [
    {
     "name": "stdout",
     "output_type": "stream",
     "text": [
      "130\n"
     ]
    }
   ],
   "source": [
    "print(a[(2, )])"
   ]
  },
  {
   "cell_type": "code",
   "execution_count": 62,
   "id": "dbbee88b-1b74-4350-9bf9-5952583b242c",
   "metadata": {},
   "outputs": [
    {
     "ename": "IndexError",
     "evalue": "too many indices for array: array is 1-dimensional, but 2 were indexed",
     "output_type": "error",
     "traceback": [
      "\u001b[1;31m---------------------------------------------------------------------------\u001b[0m",
      "\u001b[1;31mIndexError\u001b[0m                                Traceback (most recent call last)",
      "Cell \u001b[1;32mIn[62], line 1\u001b[0m\n\u001b[1;32m----> 1\u001b[0m \u001b[38;5;28mprint\u001b[39m(\u001b[43ma\u001b[49m\u001b[43m[\u001b[49m\u001b[43m(\u001b[49m\u001b[38;5;241;43m1\u001b[39;49m\u001b[43m,\u001b[49m\u001b[38;5;241;43m3\u001b[39;49m\u001b[43m)\u001b[49m\u001b[43m]\u001b[49m)  \u001b[38;5;66;03m# it will treat (1,3) as dimension\u001b[39;00m\n",
      "\u001b[1;31mIndexError\u001b[0m: too many indices for array: array is 1-dimensional, but 2 were indexed"
     ]
    }
   ],
   "source": [
    "print(a[(1,3)])  # it will treat (1,3) as dimension"
   ]
  },
  {
   "cell_type": "markdown",
   "id": "65579fd5-7b6f-4b0a-9384-346c22baac78",
   "metadata": {},
   "source": [
    "**4. Accessing multiple value based on condition**\n",
    "- Syntax: array[condition]\n",
    "  - first it will check the condition, the item which satisfies the condition (means which items gives True for the condition), that item will be selected"
   ]
  },
  {
   "cell_type": "code",
   "execution_count": 64,
   "id": "3af2118b-064c-4256-b8ef-9b5c6ee64689",
   "metadata": {},
   "outputs": [
    {
     "data": {
      "text/plain": [
       "array([False,  True,  True])"
      ]
     },
     "execution_count": 64,
     "metadata": {},
     "output_type": "execute_result"
    }
   ],
   "source": [
    "a = np.array([45,46,47])\n",
    "a>45   # this gives an array of booleans indicating which item of the array 'a' satisfies the condition"
   ]
  },
  {
   "cell_type": "code",
   "execution_count": 65,
   "id": "48b73973-a49f-4e57-b5d9-2ec1c1704443",
   "metadata": {},
   "outputs": [
    {
     "data": {
      "text/plain": [
       "array([46, 47])"
      ]
     },
     "execution_count": 65,
     "metadata": {},
     "output_type": "execute_result"
    }
   ],
   "source": [
    "# suppose we want to get an array of items that satisfies the condition then we have to do:\n",
    "a[a>45]"
   ]
  },
  {
   "cell_type": "markdown",
   "id": "6a32ec44-90bf-44e3-ba1f-bdef62fce2c2",
   "metadata": {},
   "source": [
    "### Modifying the values in NumPy"
   ]
  },
  {
   "cell_type": "markdown",
   "id": "09b1207e-da59-45f1-86dd-29232fbbfce6",
   "metadata": {},
   "source": [
    "**1. Add single/ multiple value in the array:**\n",
    "- Syntax: np.append(array, value)"
   ]
  },
  {
   "cell_type": "code",
   "execution_count": 66,
   "id": "dd91475c-f57e-4375-bded-160ff9e9bb0c",
   "metadata": {},
   "outputs": [
    {
     "name": "stdout",
     "output_type": "stream",
     "text": [
      "[ 45  46  47 100]\n"
     ]
    }
   ],
   "source": [
    "a = np.array([45, 46, 47])\n",
    "a1 = np.append(a, 100)\n",
    "print(a1)"
   ]
  },
  {
   "cell_type": "code",
   "execution_count": 67,
   "id": "b8a2c740-0971-49ec-ac6d-650dd2ae8102",
   "metadata": {},
   "outputs": [
    {
     "name": "stdout",
     "output_type": "stream",
     "text": [
      "[ 45  46  47 100 200 300]\n"
     ]
    }
   ],
   "source": [
    "# adding multiple values\n",
    "a = np.array([45, 46, 47])\n",
    "a1 = np.append(a, [100, 200, 300])   # Here, [100, 200, 300] will not be added as 1-item else it will make the array 2-D\n",
    "print(a1)"
   ]
  },
  {
   "cell_type": "code",
   "execution_count": 68,
   "id": "0e449ff0-dcc9-4066-9db1-b805cb1fa2e5",
   "metadata": {},
   "outputs": [
    {
     "name": "stdout",
     "output_type": "stream",
     "text": [
      "[ 45  46  47 100 100 200]\n"
     ]
    }
   ],
   "source": [
    "a = np.array([45, 46, 47])\n",
    "a1 = np.append(a, (100, 100, 200))\n",
    "print(a1)"
   ]
  },
  {
   "cell_type": "markdown",
   "id": "426047a7-ceff-4740-a7e9-4417cf37aeac",
   "metadata": {},
   "source": [
    "**2. Replacing a single value in a 1D array:**"
   ]
  },
  {
   "cell_type": "code",
   "execution_count": 69,
   "id": "fd5576f8-a415-4db4-8516-4a861921acda",
   "metadata": {},
   "outputs": [
    {
     "name": "stdout",
     "output_type": "stream",
     "text": [
      "[ 45 100  47]\n"
     ]
    }
   ],
   "source": [
    "a = np.array([45, 46, 47])\n",
    "a[1] = 100\n",
    "print(a)"
   ]
  },
  {
   "cell_type": "markdown",
   "id": "d9423787-a757-4bf9-b155-bffd736c1c43",
   "metadata": {},
   "source": [
    "**3. Replacing multiple values with a single value**"
   ]
  },
  {
   "cell_type": "code",
   "execution_count": 73,
   "id": "7b44b7dd-f247-49d3-9139-246c06a53d3c",
   "metadata": {},
   "outputs": [
    {
     "name": "stdout",
     "output_type": "stream",
     "text": [
      "[ 45 100 100]\n"
     ]
    }
   ],
   "source": [
    "a = np.array([45, 46, 47])\n",
    "a[[1, 2]] = [100]   # elements at index 1 and 2 will become 100\n",
    "print(a)"
   ]
  },
  {
   "cell_type": "code",
   "execution_count": 70,
   "id": "3b45571c-5c5a-43df-90e1-7a707c8b0ae4",
   "metadata": {},
   "outputs": [
    {
     "name": "stdout",
     "output_type": "stream",
     "text": [
      "[ 45 100 100]\n"
     ]
    }
   ],
   "source": [
    "a = np.array([45, 46, 47])\n",
    "a[[1, 2]] = 100   # elements at index 1 and 2 will become 100\n",
    "print(a)"
   ]
  },
  {
   "cell_type": "markdown",
   "id": "7660167d-390c-4cdb-89b8-2f8f759c1cef",
   "metadata": {},
   "source": [
    "**4. Replacing multiple values with multiple values**"
   ]
  },
  {
   "cell_type": "code",
   "execution_count": 71,
   "id": "94ca4516-f639-4755-97e9-502f506fa2f5",
   "metadata": {},
   "outputs": [
    {
     "name": "stdout",
     "output_type": "stream",
     "text": [
      "[100 102  47]\n"
     ]
    }
   ],
   "source": [
    "a = np.array([45, 46, 47])\n",
    "a[[0,1]] = [100, 102]\n",
    "print(a)"
   ]
  },
  {
   "cell_type": "code",
   "execution_count": 74,
   "id": "a2f895b9-fbe6-4c6a-a550-8717b6cfe22d",
   "metadata": {},
   "outputs": [
    {
     "ename": "ValueError",
     "evalue": "shape mismatch: value array of shape (3,) could not be broadcast to indexing result of shape (2,)",
     "output_type": "error",
     "traceback": [
      "\u001b[1;31m---------------------------------------------------------------------------\u001b[0m",
      "\u001b[1;31mValueError\u001b[0m                                Traceback (most recent call last)",
      "Cell \u001b[1;32mIn[74], line 2\u001b[0m\n\u001b[0;32m      1\u001b[0m a \u001b[38;5;241m=\u001b[39m np\u001b[38;5;241m.\u001b[39marray([\u001b[38;5;241m45\u001b[39m, \u001b[38;5;241m46\u001b[39m, \u001b[38;5;241m47\u001b[39m])\n\u001b[1;32m----> 2\u001b[0m \u001b[43ma\u001b[49m\u001b[43m[\u001b[49m\u001b[43m[\u001b[49m\u001b[38;5;241;43m0\u001b[39;49m\u001b[43m,\u001b[49m\u001b[38;5;241;43m1\u001b[39;49m\u001b[43m]\u001b[49m\u001b[43m]\u001b[49m \u001b[38;5;241m=\u001b[39m [\u001b[38;5;241m100\u001b[39m, \u001b[38;5;241m200\u001b[39m, \u001b[38;5;241m2\u001b[39m]\n\u001b[0;32m      3\u001b[0m \u001b[38;5;28mprint\u001b[39m(a)\n",
      "\u001b[1;31mValueError\u001b[0m: shape mismatch: value array of shape (3,) could not be broadcast to indexing result of shape (2,)"
     ]
    }
   ],
   "source": [
    "a = np.array([45, 46, 47])\n",
    "a[[0,1]] = [100, 200, 2]\n",
    "print(a)"
   ]
  },
  {
   "cell_type": "markdown",
   "id": "4312a27b-f7c0-4a82-a4a1-6a162b81861c",
   "metadata": {},
   "source": [
    "**5. Deleting a single value in an array:**\n",
    "- Syntax: np.delete(array, index_number) - this method returns a new array"
   ]
  },
  {
   "cell_type": "code",
   "execution_count": 79,
   "id": "cc36ef11-b8f6-4913-8809-b6943d00b102",
   "metadata": {},
   "outputs": [
    {
     "name": "stdout",
     "output_type": "stream",
     "text": [
      "[46 47]\n"
     ]
    },
    {
     "data": {
      "text/plain": [
       "array([45, 46, 47])"
      ]
     },
     "execution_count": 79,
     "metadata": {},
     "output_type": "execute_result"
    }
   ],
   "source": [
    "a = np.array([45, 46, 47])\n",
    "a1 = np.delete(a, 0)\n",
    "print(a1)\n",
    "a"
   ]
  },
  {
   "cell_type": "markdown",
   "id": "c0c845fc-086c-4fe1-8fef-7ed7ee9699e2",
   "metadata": {},
   "source": [
    "**6. Deleting multiple values in an array:**\n",
    "- Syntax: np.delete(array, [multiple_indexes])"
   ]
  },
  {
   "cell_type": "code",
   "execution_count": 80,
   "id": "cb47c869-e015-44e2-9f03-945e534d3aa0",
   "metadata": {},
   "outputs": [
    {
     "name": "stdout",
     "output_type": "stream",
     "text": [
      "[47]\n"
     ]
    },
    {
     "data": {
      "text/plain": [
       "array([45, 46, 47])"
      ]
     },
     "execution_count": 80,
     "metadata": {},
     "output_type": "execute_result"
    }
   ],
   "source": [
    "a = np.array([45, 46, 47])\n",
    "a1 = np.delete(a, [1,0])\n",
    "print(a1)\n",
    "a"
   ]
  },
  {
   "cell_type": "code",
   "execution_count": null,
   "id": "4dfdd2f8-131e-421d-877b-671589a3c955",
   "metadata": {},
   "outputs": [],
   "source": []
  },
  {
   "cell_type": "markdown",
   "id": "49896b95-5045-4764-ba51-3d7305d3b206",
   "metadata": {},
   "source": [
    "**7. Copying arrays:**\n",
    "- Syntax: array.copy() - creates shallow copy"
   ]
  },
  {
   "cell_type": "code",
   "execution_count": 82,
   "id": "f346472d-aec9-4978-8723-c7f602597959",
   "metadata": {},
   "outputs": [
    {
     "name": "stdout",
     "output_type": "stream",
     "text": [
      "[1 2 3]\n",
      "[1 2 3]\n",
      "[100   2   3]\n"
     ]
    },
    {
     "data": {
      "text/plain": [
       "array([1, 2, 3])"
      ]
     },
     "execution_count": 82,
     "metadata": {},
     "output_type": "execute_result"
    }
   ],
   "source": [
    "a = np.array([1, 2, 3])\n",
    "print(a)\n",
    "b = a.copy()\n",
    "print(b)\n",
    "b[0] = 100\n",
    "print(b)\n",
    "a"
   ]
  },
  {
   "cell_type": "markdown",
   "id": "08a7658a-9102-48f7-bb1d-8d7f39f11f60",
   "metadata": {},
   "source": [
    "**8. Sorting an array:**"
   ]
  },
  {
   "cell_type": "code",
   "execution_count": 83,
   "id": "6e226a22-5d96-4f3c-8a93-f98ddd4e4eaf",
   "metadata": {},
   "outputs": [
    {
     "name": "stdout",
     "output_type": "stream",
     "text": [
      "[1 2 4 6 8]\n"
     ]
    },
    {
     "data": {
      "text/plain": [
       "array([4, 6, 8, 2, 1])"
      ]
     },
     "execution_count": 83,
     "metadata": {},
     "output_type": "execute_result"
    }
   ],
   "source": [
    "a = np.array([4, 6, 8, 2, 1])\n",
    "b = np.sort(a)\n",
    "print(b)\n",
    "a"
   ]
  },
  {
   "cell_type": "code",
   "execution_count": 107,
   "id": "f618228b-0b05-4f02-a36a-ce1d63c9834b",
   "metadata": {},
   "outputs": [
    {
     "data": {
      "text/plain": [
       "array(['1', '2', '4', '6', '8', 'A', 'a'], dtype='<U21')"
      ]
     },
     "execution_count": 107,
     "metadata": {},
     "output_type": "execute_result"
    }
   ],
   "source": [
    "# sorting when array is a mixture of lowercase alphabets, uppercase alphabets and numbers\n",
    "arr = np.array([4,6, 8, 2, 1, \"a\", \"A\"])\n",
    "b = np.sort(arr)  # sorting based on Unicode value\n",
    "b"
   ]
  },
  {
   "cell_type": "code",
   "execution_count": 108,
   "id": "377a19a2-762a-4725-955f-da84e9c4ebff",
   "metadata": {},
   "outputs": [
    {
     "data": {
      "text/plain": [
       "array(['1', '2', '4', '6', '8', 'A', 'Abhi', 'B', 'a'], dtype='<U21')"
      ]
     },
     "execution_count": 108,
     "metadata": {},
     "output_type": "execute_result"
    }
   ],
   "source": [
    "# sorting when array is a mixture of lowercase alphabets, uppercase alphabets and numbers\n",
    "arr = np.array([4,6, 8, 2, 1, \"a\", \"A\", \"Abhi\", \"B\"])\n",
    "b = np.sort(arr)  # sorting based on Unicode value (Here Abhi will come before B)\n",
    "b"
   ]
  },
  {
   "cell_type": "code",
   "execution_count": 109,
   "id": "202504cf-9ddd-4d95-92aa-24494ef56625",
   "metadata": {},
   "outputs": [
    {
     "data": {
      "text/plain": [
       "array(['1', '100', '2', '200', '4', '6', '8', 'A', 'Abhi', 'B', 'a'],\n",
       "      dtype='<U21')"
      ]
     },
     "execution_count": 109,
     "metadata": {},
     "output_type": "execute_result"
    }
   ],
   "source": [
    "# sorting when array is a mixture of lowercase alphabets, uppercase alphabets and numbers\n",
    "arr = np.array([4, 6, 8, 2, 1, 100, 200, \"a\", \"A\", \"Abhi\", \"B\"])\n",
    "b = np.sort(arr)  # sorting based on Unicode value (Here 100 will come before 2 and 200 will come before 4 same as Abhi came before B in above example)\n",
    "b"
   ]
  },
  {
   "cell_type": "markdown",
   "id": "0e5ea482-1a14-4412-906a-cf34b9904bf6",
   "metadata": {},
   "source": [
    "### Operations"
   ]
  },
  {
   "cell_type": "markdown",
   "id": "d356e1d3-6f0b-4081-8b34-7218af4f8c50",
   "metadata": {},
   "source": [
    "**1. Arithmetic operations:**"
   ]
  },
  {
   "cell_type": "code",
   "execution_count": 84,
   "id": "6679f868-8ea4-4be3-9d2e-88ad08939fdc",
   "metadata": {},
   "outputs": [
    {
     "name": "stdout",
     "output_type": "stream",
     "text": [
      "[1 2 3 4]\n"
     ]
    }
   ],
   "source": [
    "a = np.array([1, 2, 3, 4])\n",
    "print(a)"
   ]
  },
  {
   "cell_type": "code",
   "execution_count": 86,
   "id": "5406bb27-fe09-4426-a6bc-21897499f8b8",
   "metadata": {},
   "outputs": [
    {
     "data": {
      "text/plain": [
       "array([2, 3, 4, 5])"
      ]
     },
     "execution_count": 86,
     "metadata": {},
     "output_type": "execute_result"
    }
   ],
   "source": [
    "b = a+1   # it will add 1 to all items of array a (same task without numpy would require more code i.e. we would require to write loop)\n",
    "b"
   ]
  },
  {
   "cell_type": "code",
   "execution_count": 87,
   "id": "31b4cf44-816a-477e-a16b-7fcdd5c3ae9a",
   "metadata": {},
   "outputs": [
    {
     "data": {
      "text/plain": [
       "array([1, 2, 3, 4])"
      ]
     },
     "execution_count": 87,
     "metadata": {},
     "output_type": "execute_result"
    }
   ],
   "source": [
    "c = a+0\n",
    "c"
   ]
  },
  {
   "cell_type": "code",
   "execution_count": 88,
   "id": "e8d1a444-832b-458a-8ffd-58c9653ca256",
   "metadata": {},
   "outputs": [
    {
     "data": {
      "text/plain": [
       "array([ 1,  4,  9, 16])"
      ]
     },
     "execution_count": 88,
     "metadata": {},
     "output_type": "execute_result"
    }
   ],
   "source": [
    "d = a**2\n",
    "d"
   ]
  },
  {
   "cell_type": "code",
   "execution_count": 89,
   "id": "32d8a7ff-a34d-4376-8863-87e2924b2fb5",
   "metadata": {},
   "outputs": [
    {
     "name": "stdout",
     "output_type": "stream",
     "text": [
      "[3 5 7 9]\n"
     ]
    }
   ],
   "source": [
    "print(a+b)   # item at an index of array 'a' gets added to item at same index in 'b'"
   ]
  },
  {
   "cell_type": "code",
   "execution_count": 95,
   "id": "be85992f-1d25-4410-9dc2-5cf30c36d243",
   "metadata": {},
   "outputs": [
    {
     "name": "stdout",
     "output_type": "stream",
     "text": [
      "(3,)\n",
      "(2,)\n"
     ]
    },
    {
     "ename": "ValueError",
     "evalue": "operands could not be broadcast together with shapes (3,) (2,) ",
     "output_type": "error",
     "traceback": [
      "\u001b[1;31m---------------------------------------------------------------------------\u001b[0m",
      "\u001b[1;31mValueError\u001b[0m                                Traceback (most recent call last)",
      "Cell \u001b[1;32mIn[95], line 6\u001b[0m\n\u001b[0;32m      4\u001b[0m \u001b[38;5;28mprint\u001b[39m(x\u001b[38;5;241m.\u001b[39mshape)\n\u001b[0;32m      5\u001b[0m \u001b[38;5;28mprint\u001b[39m(y\u001b[38;5;241m.\u001b[39mshape)\n\u001b[1;32m----> 6\u001b[0m \u001b[38;5;28mprint\u001b[39m(\u001b[43mx\u001b[49m\u001b[38;5;241;43m+\u001b[39;49m\u001b[43my\u001b[49m)\n",
      "\u001b[1;31mValueError\u001b[0m: operands could not be broadcast together with shapes (3,) (2,) "
     ]
    }
   ],
   "source": [
    "# if shape of two arrays is not same and we try to perform Arithmetic operation then we get error:\n",
    "x = np.array([1, 2, 3])\n",
    "y = np.array([2, 3])\n",
    "print(x.shape)\n",
    "print(y.shape)\n",
    "print(x+y)"
   ]
  },
  {
   "cell_type": "code",
   "execution_count": 96,
   "id": "3a1afea0-8535-4669-9c27-ffe37dfffeb0",
   "metadata": {},
   "outputs": [
    {
     "name": "stdout",
     "output_type": "stream",
     "text": [
      "[ 2  6 12 20]\n"
     ]
    }
   ],
   "source": [
    "print(a*b)"
   ]
  },
  {
   "cell_type": "markdown",
   "id": "041fd85f-fdd4-41d8-a11e-55aacc685b69",
   "metadata": {},
   "source": [
    "**2. Comparison Operators:**"
   ]
  },
  {
   "cell_type": "code",
   "execution_count": 97,
   "id": "a4aa95b2-3aca-4a72-83e4-8818f4a54008",
   "metadata": {},
   "outputs": [
    {
     "data": {
      "text/plain": [
       "array([False, False, False, False])"
      ]
     },
     "execution_count": 97,
     "metadata": {},
     "output_type": "execute_result"
    }
   ],
   "source": [
    "a == b   # item at an index of array 'a' gets compared to item at same index in 'b'"
   ]
  },
  {
   "cell_type": "code",
   "execution_count": 98,
   "id": "ac085cbd-0c3a-42c1-81ca-e94a6cc60e21",
   "metadata": {},
   "outputs": [
    {
     "data": {
      "text/plain": [
       "array([ True,  True,  True,  True])"
      ]
     },
     "execution_count": 98,
     "metadata": {},
     "output_type": "execute_result"
    }
   ],
   "source": [
    "b>=a"
   ]
  },
  {
   "cell_type": "code",
   "execution_count": 99,
   "id": "47cc793a-287d-4835-b851-3d8479399dda",
   "metadata": {},
   "outputs": [
    {
     "data": {
      "text/plain": [
       "False"
      ]
     },
     "execution_count": 99,
     "metadata": {},
     "output_type": "execute_result"
    }
   ],
   "source": [
    "np.array_equal(a,b)  # returns True if all items at corresponding indexes are same in a and b, else it returns False"
   ]
  },
  {
   "cell_type": "code",
   "execution_count": 100,
   "id": "06191a8d-eb06-4877-b7ef-624a8741318c",
   "metadata": {},
   "outputs": [
    {
     "data": {
      "text/plain": [
       "True"
      ]
     },
     "execution_count": 100,
     "metadata": {},
     "output_type": "execute_result"
    }
   ],
   "source": [
    "np.array_equal(a,c)"
   ]
  },
  {
   "cell_type": "markdown",
   "id": "9e8fc988-1c00-432d-9107-0107ef95bcd8",
   "metadata": {},
   "source": [
    "**3. Mathematical Operations:**"
   ]
  },
  {
   "cell_type": "code",
   "execution_count": 101,
   "id": "13c06b9c-7981-4664-86c7-5ec340a46d35",
   "metadata": {},
   "outputs": [
    {
     "data": {
      "text/plain": [
       "array([0, 1, 2, 3, 4])"
      ]
     },
     "execution_count": 101,
     "metadata": {},
     "output_type": "execute_result"
    }
   ],
   "source": [
    "a = np.array([0, 1, 2, 3, 4])\n",
    "a"
   ]
  },
  {
   "cell_type": "code",
   "execution_count": 102,
   "id": "1704937b-0239-4dd7-8100-c65361168ce4",
   "metadata": {},
   "outputs": [
    {
     "data": {
      "text/plain": [
       "array([ 1.        ,  2.71828183,  7.3890561 , 20.08553692, 54.59815003])"
      ]
     },
     "execution_count": 102,
     "metadata": {},
     "output_type": "execute_result"
    }
   ],
   "source": [
    "np.exp(a)    # returns (e)^items_of_array"
   ]
  },
  {
   "cell_type": "code",
   "execution_count": 103,
   "id": "11b27a0b-72cf-4c59-88d4-5360a314f5e5",
   "metadata": {},
   "outputs": [
    {
     "name": "stderr",
     "output_type": "stream",
     "text": [
      "C:\\Users\\abhin\\AppData\\Local\\Temp\\ipykernel_612\\3575311366.py:1: RuntimeWarning: divide by zero encountered in log\n",
      "  np.log(a)   # returns log(eac_items in array)\n"
     ]
    },
    {
     "data": {
      "text/plain": [
       "array([      -inf, 0.        , 0.69314718, 1.09861229, 1.38629436])"
      ]
     },
     "execution_count": 103,
     "metadata": {},
     "output_type": "execute_result"
    }
   ],
   "source": [
    "np.log(a)   # returns log(eac_items in array)"
   ]
  },
  {
   "cell_type": "markdown",
   "id": "2d5fda24-597d-4066-a52b-d4e91e3be96a",
   "metadata": {},
   "source": [
    "- in above np.log(a) gives warning because we know that log(0) = -Infinity\n",
    "- If we want to supress the above warning then we can use warnings module simplefilter() which can take the following action:\n",
    "  - \"ignore\": Ignore the warning.\n",
    "  - \"error\": Turn the warning into an error.\n",
    "  - \"always\": Always s|how the warning, even if it's already been shown.\n",
    "  - \"default\": Show the warning only the first time it’s triggered.\n",
    "  - \"module\": Show the warning once per module.\n",
    "  - \"once\": Show the warning only once."
   ]
  },
  {
   "cell_type": "code",
   "execution_count": 104,
   "id": "889ce4d2-5a2c-41a6-8f00-b2f46e14fdd0",
   "metadata": {},
   "outputs": [
    {
     "data": {
      "text/plain": [
       "array([      -inf, 0.        , 0.69314718, 1.09861229, 1.38629436])"
      ]
     },
     "execution_count": 104,
     "metadata": {},
     "output_type": "execute_result"
    }
   ],
   "source": [
    "import warnings as w\n",
    "w.simplefilter(\"ignore\")\n",
    "np.log(a)"
   ]
  },
  {
   "cell_type": "code",
   "execution_count": 105,
   "id": "16d974b3-8a41-4bb8-bb8f-50fb64aadc50",
   "metadata": {},
   "outputs": [
    {
     "ename": "RuntimeWarning",
     "evalue": "divide by zero encountered in log",
     "output_type": "error",
     "traceback": [
      "\u001b[1;31m---------------------------------------------------------------------------\u001b[0m",
      "\u001b[1;31mRuntimeWarning\u001b[0m                            Traceback (most recent call last)",
      "Cell \u001b[1;32mIn[105], line 3\u001b[0m\n\u001b[0;32m      1\u001b[0m \u001b[38;5;28;01mimport\u001b[39;00m \u001b[38;5;21;01mwarnings\u001b[39;00m \u001b[38;5;28;01mas\u001b[39;00m \u001b[38;5;21;01mw\u001b[39;00m\n\u001b[0;32m      2\u001b[0m w\u001b[38;5;241m.\u001b[39msimplefilter(\u001b[38;5;124m\"\u001b[39m\u001b[38;5;124merror\u001b[39m\u001b[38;5;124m\"\u001b[39m)\n\u001b[1;32m----> 3\u001b[0m \u001b[43mnp\u001b[49m\u001b[38;5;241;43m.\u001b[39;49m\u001b[43mlog\u001b[49m\u001b[43m(\u001b[49m\u001b[43ma\u001b[49m\u001b[43m)\u001b[49m\n",
      "\u001b[1;31mRuntimeWarning\u001b[0m: divide by zero encountered in log"
     ]
    }
   ],
   "source": [
    "import warnings as w\n",
    "w.simplefilter(\"error\")\n",
    "np.log(a)"
   ]
  }
 ],
 "metadata": {
  "kernelspec": {
   "display_name": "Python 3 (ipykernel)",
   "language": "python",
   "name": "python3"
  },
  "language_info": {
   "codemirror_mode": {
    "name": "ipython",
    "version": 3
   },
   "file_extension": ".py",
   "mimetype": "text/x-python",
   "name": "python",
   "nbconvert_exporter": "python",
   "pygments_lexer": "ipython3",
   "version": "3.12.4"
  }
 },
 "nbformat": 4,
 "nbformat_minor": 5
}
