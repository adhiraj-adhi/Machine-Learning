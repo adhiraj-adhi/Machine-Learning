{
 "cells": [
  {
   "cell_type": "markdown",
   "id": "451b4088-a8e5-420b-975a-023b8d63368b",
   "metadata": {},
   "source": [
    "#### 1. Data Collection/Gathering\n",
    "- Without high quality data and relevant data no machine learning model can perform well.\n",
    "- There are different sources on which we depend for data. For instance, we can fetch data from database, APIs, or websites (web scraping).\n",
    "- We may face challenges like the data quality, data accessibility, data volume, and many more."
   ]
  },
  {
   "cell_type": "markdown",
   "id": "caa8d76e-bf02-4a9c-b57d-8f6bfa7feea1",
   "metadata": {},
   "source": [
    "#### 2. Insufficient data/Labelled data\n",
    "- To be very honest if we have very huge amount of data then the algorithm does not matter. Say we have two algorithm 'A' and 'B', where 'A' is a good algorithm as compared to 'B' but if algorithm 'B' has more data (by more we means much more) than 'A' then it may perform well.\n",
    "- But the point is that we do not have such a huge amount of data and hence algorithm for training models matters.\n",
    "- Labelling of data is yet another challenge."
   ]
  },
  {
   "cell_type": "markdown",
   "id": "016670c2-aaa1-469a-b22c-7db344177fa6",
   "metadata": {},
   "source": [
    "#### 3. Non representative data\n",
    "- There is a chance that the data we have is incomplete. This incomplete data can cause changes in the result. For instance, collecting The data of which country is going to win the World Cup from India could lead our model to predict that India will win the cup.\n",
    "- Here we have two terms:\n",
    "  - **Sampling noise:** If we do not have the proper representation of data then it is sampling noise. For instance, in above example of world cup.\n",
    "  - **Sampling bias:** There may be a chance that even though we conducted the World Cup survey in all the countries playing World Cup but yet all voted for India because we allowed only Indians to participate in survey. This is sampling bias."
   ]
  },
  {
   "cell_type": "markdown",
   "id": "9117b96b-2f96-44da-9386-a70e8af37748",
   "metadata": {},
   "source": [
    "#### 4. Poor quality data\n",
    "- Poor data quality like missing values, noise, or inconsistencies can make data unreliable."
   ]
  },
  {
   "cell_type": "markdown",
   "id": "b4df2c0b-7672-46b5-958c-48524ac7d3c5",
   "metadata": {},
   "source": [
    "#### 5. Irrelevant features\n",
    "- Collected data may not always match the task at hand. Irrelevant data (i.e. data of no use) can make the model more complex without improving performance."
   ]
  },
  {
   "cell_type": "markdown",
   "id": "1af23ea8-c902-4bc9-9396-ef711b55f8b2",
   "metadata": {},
   "source": [
    "#### 6. Overfitting\n",
    "- When our model memorises the data rather than learning underlying patterns it is less effective at generalising to unseen data. This is overfitting."
   ]
  },
  {
   "cell_type": "markdown",
   "id": "945f2d2f-d1a7-4844-b064-a29b203b25de",
   "metadata": {},
   "source": [
    "#### 7. Underfitting\n",
    "- It occurs when a model is too simple to capture the underlying structure of the data resulting in poor performance on both the training data and unseen data (test data).\n",
    "- It happens when the model is unable to learn the patterns due to its simplicity or lack of complexity."
   ]
  },
  {
   "cell_type": "markdown",
   "id": "61d2fd4f-c1c7-44e4-a21a-bae4c20b5d84",
   "metadata": {},
   "source": [
    "#### 8. Software integration\n",
    "- Finally we integrate our trained model to some software. This integration can be challenging."
   ]
  },
  {
   "cell_type": "markdown",
   "id": "858bc4a5-7b51-407b-a212-cd41f693538a",
   "metadata": {},
   "source": [
    "#### 9. Offline learning/deployment\n",
    "- Model once deployed remains static in case of offline learning.\n",
    "- If we want to add some data then we have to undeploy the model, train it, and redeploy. Deployment is costly and difficult itself."
   ]
  },
  {
   "cell_type": "markdown",
   "id": "68fdffa6-e08d-49b8-a790-c27ae74591aa",
   "metadata": {},
   "source": [
    "#### 10. Cost involved\n",
    "- It can be significant challenge for organisations especially during the development and deployment of machine learning models."
   ]
  },
  {
   "cell_type": "markdown",
   "id": "97c0eca2-0aa0-4567-8c1a-df0be26e20ea",
   "metadata": {},
   "source": [
    "#### **ADVICE**\n",
    "- When you make model try to deploy it so that end users can use it.\n",
    "- This whole process of creating, training, deployment, and so on is complex. In fact for handling integration, deploying, and maintaining machine learning model we have a set of operation referred to as MLOps (Machine Learning Operations).\n",
    "- MLOps for Machine Learning similar to DevOps for Development."
   ]
  }
 ],
 "metadata": {
  "kernelspec": {
   "display_name": "Python 3 (ipykernel)",
   "language": "python",
   "name": "python3"
  },
  "language_info": {
   "codemirror_mode": {
    "name": "ipython",
    "version": 3
   },
   "file_extension": ".py",
   "mimetype": "text/x-python",
   "name": "python",
   "nbconvert_exporter": "python",
   "pygments_lexer": "ipython3",
   "version": "3.12.4"
  }
 },
 "nbformat": 4,
 "nbformat_minor": 5
}
