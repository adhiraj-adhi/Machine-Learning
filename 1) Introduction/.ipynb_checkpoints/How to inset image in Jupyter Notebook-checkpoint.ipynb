{
 "cells": [
  {
   "cell_type": "raw",
   "id": "4e46ec0b-8656-4e2c-a771-fa363c8ed45e",
   "metadata": {},
   "source": [
    "# Way 1:\n",
    "- Using img tag and type of cell as markdown\n",
    "- <img src=\"path of image\" alt=\"Image\" width=\"400\" height=\"400\" />\n",
    "- Problem with this way is that when we download/print the note we do not get the image"
   ]
  },
  {
   "cell_type": "code",
   "execution_count": null,
   "id": "c4060205-2667-41ef-b797-da54a3c52b01",
   "metadata": {},
   "outputs": [],
   "source": [
    "# Way 2:\n",
    "- Using Python code:\n",
    "- Step I: Convert the Image to Base64: Use Python to read the image file and convert it into a Base64 string.\n",
    "    import base64\n",
    "\n",
    "    # Replace \"path_to_image.png\" with the path to your image\n",
    "    with open(\"path_to_image.png\", \"rb\") as img_file:\n",
    "        base64_image = base64.b64encode(img_file.read()).decode('utf-8')\n",
    "    \n",
    "    print(base64_image)  # This prints the base64 string representation of your image\n",
    "\n",
    "- Step II: Use the Base64-encoded String in an HTML Tag: Once you have the base64 string, you can embed it into an <img> tag (make cell Markdown) like \n",
    "  this:\n",
    "    <img src=\"data:image/png;base64, your_base64_string\" alt=\"Image\" width=\"400\" />\n",
    "\n",
    "    Example: <img src=\"data:image/png;base64, iVBORw0KGgoAAAANSUhEUgAAAOEAAADhCAYAAAAu... (Base64 string here)\" alt=\"Embedded Image\" width=\"400\" />"
   ]
  },
  {
   "cell_type": "code",
   "execution_count": 1,
   "id": "8cbb35bc-48ee-4bfc-84f3-9af604dd3112",
   "metadata": {},
   "outputs": [],
   "source": [
    "# Way 3:\n",
    "- Using the following Python code:\n",
    "    from IPython.display import Image, display\n",
    "    \n",
    "    # Replace \"path_to_image.png\" with the path to your image\n",
    "    image_path = \"path_to_image.png\"\n",
    "    display(Image(filename=image_path, width=400, height=300))\n",
    "\n",
    "- In this case, code also comes in the printed document.\n",
    "- What we can do is that we can remove the code (i.e. clear the cell of code) during printing and print the document."
   ]
  },
  {
   "cell_type": "markdown",
   "id": "c4a93449-bb45-42c4-a01b-1c7665f553c0",
   "metadata": {},
   "source": [
    "# What we will do in order to print note with image:\n",
    "- While notemaking we will use the simple img tag.\n",
    "- When we print the PDF, we will convert img tag to Python one (i.e. Way 3 (Preferred))\n",
    "- We will open the Jupyter file in Jupyter Lab -> Go to File -> Print (This way we get image also in printed document)\n",
    "- Revert back the changes (i.e. convert back the images to img tag). We will do this because the code generated for image is quite lengthy and creates unnecessary disturbance."
   ]
  }
 ],
 "metadata": {
  "kernelspec": {
   "display_name": "Python 3 (ipykernel)",
   "language": "python",
   "name": "python3"
  },
  "language_info": {
   "codemirror_mode": {
    "name": "ipython",
    "version": 3
   },
   "file_extension": ".py",
   "mimetype": "text/x-python",
   "name": "python",
   "nbconvert_exporter": "python",
   "pygments_lexer": "ipython3",
   "version": "3.12.4"
  }
 },
 "nbformat": 4,
 "nbformat_minor": 5
}
