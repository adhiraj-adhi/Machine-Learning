{
 "cells": [
  {
   "cell_type": "markdown",
   "id": "a636057b-1dc3-4a18-aa60-248ae5b2be77",
   "metadata": {},
   "source": [
    "# 1.1) Agenda and Overview"
   ]
  },
  {
   "cell_type": "markdown",
   "id": "a2167244-a2de-4512-a749-79bd6761a138",
   "metadata": {},
   "source": [
    "#### What is Data Science?\n",
    "- Data science is a multidisciplinary field that uses various techniques algorithms processes and systems to extract knowledge and insights from structured and unstructured data."
   ]
  },
  {
   "cell_type": "markdown",
   "id": "6a164043-70f6-4456-8498-ff331b8820a4",
   "metadata": {},
   "source": [
    "#### Why we need Data Science?\n",
    "- We need data science because it helps organisations and individuals make better decisions by extracting actionable insights from vast amount of data. It enables businesses to:\n",
    "  - understand trends and patterns for informed decision-making\n",
    "  - optimize processes by predicting outcomes and improving efficiency\n",
    "  - personalize experiences for users through recommendation systems\n",
    "  - detect anomalies like fraud in real-time\n",
    "  - drive innovation by uncovering hidden opportunities within data\n",
    "- In short data science turns raw data into valuable insights that drives growth, efficiency, and innovation across industries."
   ]
  },
  {
   "cell_type": "markdown",
   "id": "6ced6550-9966-4b73-9e6e-d90a115c8e53",
   "metadata": {},
   "source": [
    "#### Despite not being a newer thing, why data science is getting popularity recently?\n",
    "- Nowadays massive amount of data gets generated every day\n",
    "- In order to process such massive data sets big firms and companies hunt for data scientists who can extract valuable insights from the data and use them for various business strategies, models, and plans."
   ]
  },
  {
   "cell_type": "markdown",
   "id": "e6156625-122a-49a1-8985-09648ab5488e",
   "metadata": {},
   "source": [
    "#### What will course contain?\n",
    "- Data science + data analytics + business intelligence + python + statistics + sql + power bi + machine learning and artificial intelligence + deep learning + computer vision + nlp + data science solution in azure + generative ai + more than 15 projects in various domains + five resume based projects"
   ]
  },
  {
   "cell_type": "markdown",
   "id": "d0d65430-8091-43f3-ac24-a6458215516c",
   "metadata": {},
   "source": [
    "#### Valuable Certifications and Competitions\n",
    "- Microsoft Certification in Azure AI & Azure Data Science (Paid) - Exam AI-900 and thereafter Exam Dp-100\n",
    "- Nasscom Certification in Data Science (Paid) - Conducted by Govt.\n",
    "- Kaggle Competition (Rank of it can be used in Resume)"
   ]
  },
  {
   "cell_type": "markdown",
   "id": "e8d7b72b-5145-445f-a414-c4e1ce052055",
   "metadata": {},
   "source": [
    "#### Data Analyst vs Statistician vs Data Engineer vs SQL Developer vs Data Scientist\n",
    "- Data Analyst\n",
    "  - Analyzes/describes the past data\n",
    "  - Skills required - Python, Statistics, SQL, Power BI\n",
    "- Statistician\n",
    "  - Skills required - Statistics\n",
    "- Data Engineer\n",
    "  - Collect data from various sources and keep the data in database\n",
    "  - Skills required - Databases, Cloud, Data Pipeline, ETL (Extract Transform Load - It is basically loading the data), Big Data\n",
    "- SQL Developer\n",
    "  - Skills required - SQL\n",
    "- Data Scientist -\n",
    "  - Their role comprises the following:\n",
    "    - understanding the business problem\n",
    "    - collect the data from the company's database (which is stored by the data engineer)\n",
    "    - data cleaning (if required)\n",
    "    - apply machine learning and artificial intelligence\n",
    "  - Skills required:\n",
    "    - Any one language - Python/R/IBM SPSS/Excel\n",
    "    - Statistics - Descriptive and Inferential Statistics (Statistical Tests)\n",
    "    - Data Analytics - ETL, Exploratory Data Analytics\n",
    "    - Data Preprocessing - Data Cleaning, Data Wrangling, Feature Engineering\n",
    "    - Modeling - ML, Deep Learning, NLP, Computer Vision\n",
    "    - Data Collection -SQL\n",
    "    - Any one visualization tool - Tableau or Power BI or Qlikview\n",
    "    - Deployment - Flask, Azure"
   ]
  },
  {
   "cell_type": "markdown",
   "id": "e6782b2a-0dd0-44c9-9d7d-54b7383e17b5",
   "metadata": {},
   "source": [
    "#### Contents\n",
    "1. Module 1: We will have basic overview of ML and its terms\n",
    "2. Module 2: Core Python\n",
    "   - Introduction and Installation\n",
    "   - Variables\n",
    "   - Input & Output in python\n",
    "   - int, float, complex, boolean, and string data types\n",
    "   - list, tuple, set, dictionary data types\n",
    "   - operators\n",
    "   - conditional statements\n",
    "   - loops\n",
    "   - break and continue\n",
    "   - functions\n",
    "   - modules\n",
    "3. Module 3: Python for Data Science\n",
    "   - NumPy\n",
    "   - Pandas\n",
    "   - Matplotlib\n",
    "   - Seaborn\n",
    "   - Scipy\n",
    "   - Statsmodels\n",
    "4. Module 4: Descriptive Statistics for Data Science\n",
    "   - Types of Data\n",
    "   - Cross-Sectional Data & Time Series Data\n",
    "   - Variability of Data\n",
    "   - Measures of Data\n",
    "   - Population and Sample\n",
    "   - Sampling Techniques\n",
    "   - Measures of Central Tendency\n",
    "     - Mean, Median, Mode\n",
    "   - Measures of Spread\n",
    "     - Variance, Standard Deviations\n",
    "   - Skewness\n",
    "   - Kurtosis\n",
    "   - Percentiles, Quartiles, Inter Quartile Range\n",
    "   - Boxplot\n",
    "   - Outliers\n",
    "   - Probability\n",
    "   - Probability Distributions\n",
    "   - Gaussian Distributions\n",
    "   - Uniform Distributions\n",
    "   - Normal Distributions\n",
    "   - Standard Normal Distributions\n",
    "   - Confidence Intervals\n",
    "   - Central Limit Theorem\n",
    "5. Module 5: Inferential Statistics\n",
    "6. Module 6: Data Preprocessing\n",
    "    - Data Cleaning\n",
    "    - Data Wrangling\n",
    "    - Feature Engineering\n",
    "    - Feature Selection\n",
    "    - Dimension Reduction\n",
    "7. Module 7: Data Analytics: Exploratory Data Analysis\n",
    "8. Machine Learning\n",
    "9. Azure\n",
    "10. Artificial Intelligence\n",
    "11. Generative AI\n",
    "12. SQL and Power BI - We will study these both because some may be interested in data analytics. However, these are not required for data scientists.\n",
    "13. 15+ Realtime Projects (Basic One) and 05 Resume Level Projects"
   ]
  },
  {
   "cell_type": "markdown",
   "id": "3665f6eb-ce1d-4847-8fec-af1b30f00dcc",
   "metadata": {},
   "source": [
    "### Some python libraries used for\n",
    "- **Data Science:**\n",
    "  - NumPy, Pandas, Matplotlib, Seaborn. SciPy, Statsmodel\n",
    "- **AI:**\n",
    "  - Tensorflow, Keras, OpenCV"
   ]
  }
 ],
 "metadata": {
  "kernelspec": {
   "display_name": "Python 3 (ipykernel)",
   "language": "python",
   "name": "python3"
  },
  "language_info": {
   "codemirror_mode": {
    "name": "ipython",
    "version": 3
   },
   "file_extension": ".py",
   "mimetype": "text/x-python",
   "name": "python",
   "nbconvert_exporter": "python",
   "pygments_lexer": "ipython3",
   "version": "3.12.4"
  }
 },
 "nbformat": 4,
 "nbformat_minor": 5
}
