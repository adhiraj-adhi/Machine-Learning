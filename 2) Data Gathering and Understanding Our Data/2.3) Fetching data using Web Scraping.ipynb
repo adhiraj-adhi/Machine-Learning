{
 "cells": [
  {
   "cell_type": "markdown",
   "id": "f320fdab-91ff-48b1-8ed5-979b765f0cf8",
   "metadata": {},
   "source": [
    "# 2.3) Fetching data using Web Scraping"
   ]
  },
  {
   "cell_type": "markdown",
   "id": "d1772e42-987c-4356-b61b-cd3fe0a8f2f8",
   "metadata": {},
   "source": [
    "- We will use AmbitionBox website.\n",
    "  - This website provides in general details of companies in India.\n",
    "  - Also this website does not provide with API so we will go for web scraping.\n",
    "- We will try to extract the companies details from each page of the \"list of companies\" section of this website.\n",
    "- We will only try to extract the comapnies details from first 400 pages only.\n",
    "- Company details that we will be extracting: Company Name, Rating, Review of COmpany, Sector (Public/Private), Headquarter, tags, and abouts."
   ]
  },
  {
   "cell_type": "code",
   "execution_count": 2,
   "id": "05c9c9b2-8351-4cbc-8bda-32a2e0e9ba22",
   "metadata": {},
   "outputs": [],
   "source": [
    "# imports needed\n",
    "import pandas as pd\n",
    "import requests\n",
    "from bs4 import BeautifulSoup"
   ]
  },
  {
   "cell_type": "markdown",
   "id": "550f3bb0-bd25-4a08-be51-36a044e3e35a",
   "metadata": {},
   "source": [
    "- **bs4** (Beautiful Soup) - A package for parsing HTML and XML documents (used widely in web scraping)."
   ]
  },
  {
   "cell_type": "code",
   "execution_count": 3,
   "id": "73a12a8b-3f1a-4ad6-9144-638cd83bcc21",
   "metadata": {},
   "outputs": [
    {
     "data": {
      "text/plain": [
       "<Response [403]>"
      ]
     },
     "execution_count": 3,
     "metadata": {},
     "output_type": "execute_result"
    }
   ],
   "source": [
    "# Getting the first page\n",
    "requests.get('https://www.ambitionbox.com/list-of-companies?campaign=desktop_nav&page=1')"
   ]
  },
  {
   "cell_type": "code",
   "execution_count": 4,
   "id": "3b42193c-65ad-4c1d-bb41-cb949b62683b",
   "metadata": {},
   "outputs": [
    {
     "data": {
      "text/plain": [
       "'<HTML><HEAD>\\n<TITLE>Access Denied</TITLE>\\n</HEAD><BODY>\\n<H1>Access Denied</H1>\\n \\nYou don\\'t have permission to access \"http&#58;&#47;&#47;www&#46;ambitionbox&#46;com&#47;list&#45;of&#45;companies&#63;\" on this server.<P>\\nReference&#32;&#35;18&#46;657c4117&#46;1744548993&#46;41c4b939\\n<P>https&#58;&#47;&#47;errors&#46;edgesuite&#46;net&#47;18&#46;657c4117&#46;1744548993&#46;41c4b939</P>\\n</BODY>\\n</HTML>\\n'"
      ]
     },
     "execution_count": 4,
     "metadata": {},
     "output_type": "execute_result"
    }
   ],
   "source": [
    "# We are getting the response code 403. To get the status message we can do:\n",
    "requests.get('https://www.ambitionbox.com/list-of-companies?campaign=desktop_nav&page=1').text"
   ]
  },
  {
   "cell_type": "markdown",
   "id": "d899ddbe-a9bb-48cf-938b-06fb8c2e2917",
   "metadata": {},
   "source": [
    "- **(Q) Why this error?**\n",
    "  - What developers do in behind the scenes is that they put the files/resources they do not want to allow the scraping or crawlers to crawl in robots.txt file.\n",
    "  - To continue with web scraping here we have to send requests along with following headers so that ambition box website thinks that the request is coming from the browser instead of anywhere else (say as bots):\n",
    "    - headers = {\n",
    "    \"User-Agent\": \"Mozilla/5.0 (Windows NT 10.0; Win64; x64) \"\n",
    "                  \"AppleWebKit/537.36 (KHTML, like Gecko) \"\n",
    "                  \"Chrome/122.0.0.0 Safari/537.36\"\n",
    "      }"
   ]
  },
  {
   "cell_type": "code",
   "execution_count": null,
   "id": "9b664eed-553a-4943-a2f0-ad3ccb37c7c2",
   "metadata": {},
   "outputs": [],
   "source": [
    "headers = {\n",
    "    \"User-Agent\": \"Mozilla/5.0 (Windows NT 10.0; Win64; x64) \"\n",
    "                  \"AppleWebKit/537.36 (KHTML, like Gecko) \"\n",
    "                  \"Chrome/122.0.0.0 Safari/537.36\"\n",
    "}\n",
    "\n",
    "# The following will now give the complete HTML of the webpage:\n",
    "url = 'https://www.ambitionbox.com/list-of-companies?campaign=desktop_nav&page=1'\n",
    "webpage = requests.get(url, headers = headers).text\n",
    "webpage"
   ]
  },
  {
   "cell_type": "code",
   "execution_count": null,
   "id": "1878ac2a-4fe7-4e6a-bf06-c191ee15b2c9",
   "metadata": {},
   "outputs": [],
   "source": []
  },
  {
   "cell_type": "code",
   "execution_count": null,
   "id": "f79eed03-8ece-450f-b10b-849755c55b7c",
   "metadata": {},
   "outputs": [],
   "source": []
  },
  {
   "cell_type": "code",
   "execution_count": null,
   "id": "554f36c7-60ed-4e73-9831-1ae9b0f8bd82",
   "metadata": {},
   "outputs": [],
   "source": []
  },
  {
   "cell_type": "code",
   "execution_count": null,
   "id": "260626db-5034-4611-8b98-a70f61c80e04",
   "metadata": {},
   "outputs": [],
   "source": []
  }
 ],
 "metadata": {
  "kernelspec": {
   "display_name": "Python 3 (ipykernel)",
   "language": "python",
   "name": "python3"
  },
  "language_info": {
   "codemirror_mode": {
    "name": "ipython",
    "version": 3
   },
   "file_extension": ".py",
   "mimetype": "text/x-python",
   "name": "python",
   "nbconvert_exporter": "python",
   "pygments_lexer": "ipython3",
   "version": "3.12.4"
  }
 },
 "nbformat": 4,
 "nbformat_minor": 5
}
