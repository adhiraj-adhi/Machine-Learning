{
 "cells": [
  {
   "cell_type": "markdown",
   "id": "e864b829-e2ae-4818-ab3e-fb1acf65ae27",
   "metadata": {},
   "source": [
    "# 2.1) Working on CSV, Excel, txt, and JSON"
   ]
  },
  {
   "cell_type": "code",
   "execution_count": 2,
   "id": "cd50cefb-51eb-4ca7-a52b-d035c9739dfc",
   "metadata": {},
   "outputs": [],
   "source": [
    "# Some imports needed\n",
    "import pandas as pd\n",
    "from io import StringIO"
   ]
  },
  {
   "cell_type": "markdown",
   "id": "18ef8efe-fa1e-4143-8a9e-8818c0059b73",
   "metadata": {
    "jp-MarkdownHeadingCollapsed": true
   },
   "source": [
    "### I) Reading CSV file (read_csv)"
   ]
  },
  {
   "cell_type": "markdown",
   "id": "66b74ce3-4535-47cf-9ed4-4c395fbc9dc1",
   "metadata": {},
   "source": [
    "**Note:**\n",
    "- We are not having CSV file so we will be using StringIO of io module.\n",
    "- StringIO:\n",
    "  - StringIO(data) creates an in-memory file-like object from the string data. It behaves like a file but exists only in memory, not on disk.\n",
    "  - This is useful when we have data in string format and want to process it using functions that expect file-like input (e.g., pd.read_csv)."
   ]
  },
  {
   "cell_type": "code",
   "execution_count": 3,
   "id": "2649cc3f-e586-4cd6-bafb-9c2237eb4206",
   "metadata": {},
   "outputs": [
    {
     "name": "stdout",
     "output_type": "stream",
     "text": [
      "    Name  Age         City\n",
      "0  Alice   30     New York\n",
      "1    Bob   25  Los Angeles\n"
     ]
    }
   ],
   "source": [
    "data = \"Name;Age;City\\nAlice;30;New York\\nBob;25;Los Angeles\"\n",
    "\n",
    "# Reading the CSV\n",
    "df = pd.read_csv(StringIO(data), sep=';')\n",
    "print(df)"
   ]
  },
  {
   "cell_type": "markdown",
   "id": "d5a8594c-0299-4003-ae54-573cb6bd3d0a",
   "metadata": {},
   "source": [
    "#### Some parameters in read_csv()"
   ]
  },
  {
   "cell_type": "markdown",
   "id": "ee043b81-d2fb-49f1-9768-88bcbe560ab6",
   "metadata": {},
   "source": [
    "**(i) sep:**\n",
    "- The sep parameter tells pandas how the data in the file is separated.\n",
    "- By default, a CSV (Comma-Separated Values) file uses commas , as the delimiter. However, in some files, different delimiters like semicolons ;, tabs \\t, or pipes | are used.\n",
    "- Why is it needed?\n",
    "  - If the delimiter in the file is not a comma, we must specify it using sep so pandas knows how to split the data."
   ]
  },
  {
   "cell_type": "code",
   "execution_count": 10,
   "id": "44587c6e-5d3b-40b3-8cac-67c6d6842cfd",
   "metadata": {},
   "outputs": [
    {
     "name": "stdout",
     "output_type": "stream",
     "text": [
      "    Name  Age         City\n",
      "0  Alice   30     New York\n",
      "1    Bob   25  Los Angeles\n"
     ]
    }
   ],
   "source": [
    "import pandas as pd\n",
    "from io import StringIO\n",
    "\n",
    "# Example data with a tab (\\t) delimiter\n",
    "data = \"Name\\tAge\\tCity\\nAlice\\t30\\tNew York\\nBob\\t25\\tLos Angeles\"\n",
    "\n",
    "# Reading the CSV using a tab as the delimiter\n",
    "df = pd.read_csv(StringIO(data), sep='\\t')\n",
    "print(df)"
   ]
  },
  {
   "cell_type": "markdown",
   "id": "8bcaa0a7-135d-49c5-98f2-4823a3788b47",
   "metadata": {},
   "source": [
    "**(ii) index_col (Index Column):**\n",
    "- This parameter lets us specify which column to use as the row index.\n",
    "- By default, pandas assigns a numeric index starting at 0. For instance, in above example we can see the default indexing in row.\n",
    "- Why is it useful?\n",
    "  - Sometimes, a specific column (e.g., ID or Date) is more meaningful as the row index."
   ]
  },
  {
   "cell_type": "code",
   "execution_count": 12,
   "id": "b8106ce7-3976-4697-86f4-94f6d68098aa",
   "metadata": {},
   "outputs": [
    {
     "name": "stdout",
     "output_type": "stream",
     "text": [
      "     Name  Age\n",
      "ID            \n",
      "1   Alice   30\n",
      "2     Bob   25\n"
     ]
    }
   ],
   "source": [
    "data = \"ID,Name,Age\\n1,Alice,30\\n2,Bob,25\"\n",
    "\n",
    "# Reading the CSV and setting 'ID' as the row index\n",
    "df = pd.read_csv(StringIO(data), index_col='ID')\n",
    "print(df)"
   ]
  },
  {
   "cell_type": "markdown",
   "id": "9a67b8ca-70a1-4a8f-a250-fcbfac043f86",
   "metadata": {},
   "source": [
    "**(iii) header (Header Row):**\n",
    "- By default, pandas assumes the first row contains column names. We can use the header to specify which row to use as column names or to disable headers.\n",
    "- Why is it useful?\n",
    "  - If our file doesn't have column headers, set header=None.\n",
    "  - To skip some initial rows and use another row as headers."
   ]
  },
  {
   "cell_type": "code",
   "execution_count": 16,
   "id": "3edbbfd0-3c8d-43a1-bb8e-db1b2e1db355",
   "metadata": {},
   "outputs": [
    {
     "data": {
      "text/html": [
       "<div>\n",
       "<style scoped>\n",
       "    .dataframe tbody tr th:only-of-type {\n",
       "        vertical-align: middle;\n",
       "    }\n",
       "\n",
       "    .dataframe tbody tr th {\n",
       "        vertical-align: top;\n",
       "    }\n",
       "\n",
       "    .dataframe thead th {\n",
       "        text-align: right;\n",
       "    }\n",
       "</style>\n",
       "<table border=\"1\" class=\"dataframe\">\n",
       "  <thead>\n",
       "    <tr style=\"text-align: right;\">\n",
       "      <th></th>\n",
       "      <th>Name</th>\n",
       "      <th>Age</th>\n",
       "      <th>City</th>\n",
       "    </tr>\n",
       "  </thead>\n",
       "  <tbody>\n",
       "    <tr>\n",
       "      <th>0</th>\n",
       "      <td>Alice</td>\n",
       "      <td>30</td>\n",
       "      <td>New York</td>\n",
       "    </tr>\n",
       "    <tr>\n",
       "      <th>1</th>\n",
       "      <td>Bob</td>\n",
       "      <td>25</td>\n",
       "      <td>Los Angeles</td>\n",
       "    </tr>\n",
       "  </tbody>\n",
       "</table>\n",
       "</div>"
      ],
      "text/plain": [
       "    Name  Age         City\n",
       "0  Alice   30     New York\n",
       "1    Bob   25  Los Angeles"
      ]
     },
     "execution_count": 16,
     "metadata": {},
     "output_type": "execute_result"
    }
   ],
   "source": [
    "data = \"Extra1,Extra2,Extra3\\nName,Age,City\\nAlice,30,New York\\nBob,25,Los Angeles\"\n",
    "\n",
    "# Skip the first row and use the second row as the header\n",
    "df = pd.read_csv(StringIO(data), header=1)  # Here, the first row (Extra1,Extra2,Extra3) is ignored.\n",
    "df"
   ]
  },
  {
   "cell_type": "code",
   "execution_count": 24,
   "id": "548ed1eb-dc2d-439f-a904-c9f1b9276725",
   "metadata": {},
   "outputs": [
    {
     "data": {
      "text/html": [
       "<div>\n",
       "<style scoped>\n",
       "    .dataframe tbody tr th:only-of-type {\n",
       "        vertical-align: middle;\n",
       "    }\n",
       "\n",
       "    .dataframe tbody tr th {\n",
       "        vertical-align: top;\n",
       "    }\n",
       "\n",
       "    .dataframe thead th {\n",
       "        text-align: right;\n",
       "    }\n",
       "</style>\n",
       "<table border=\"1\" class=\"dataframe\">\n",
       "  <thead>\n",
       "    <tr style=\"text-align: right;\">\n",
       "      <th></th>\n",
       "      <th>0</th>\n",
       "      <th>1</th>\n",
       "      <th>2</th>\n",
       "    </tr>\n",
       "  </thead>\n",
       "  <tbody>\n",
       "    <tr>\n",
       "      <th>0</th>\n",
       "      <td>Extra1</td>\n",
       "      <td>Extra2</td>\n",
       "      <td>Extra3</td>\n",
       "    </tr>\n",
       "    <tr>\n",
       "      <th>1</th>\n",
       "      <td>Name</td>\n",
       "      <td>Age</td>\n",
       "      <td>City</td>\n",
       "    </tr>\n",
       "    <tr>\n",
       "      <th>2</th>\n",
       "      <td>Alice</td>\n",
       "      <td>30</td>\n",
       "      <td>New York</td>\n",
       "    </tr>\n",
       "    <tr>\n",
       "      <th>3</th>\n",
       "      <td>Bob</td>\n",
       "      <td>25</td>\n",
       "      <td>Los Angeles</td>\n",
       "    </tr>\n",
       "  </tbody>\n",
       "</table>\n",
       "</div>"
      ],
      "text/plain": [
       "        0       1            2\n",
       "0  Extra1  Extra2       Extra3\n",
       "1    Name     Age         City\n",
       "2   Alice      30     New York\n",
       "3     Bob      25  Los Angeles"
      ]
     },
     "execution_count": 24,
     "metadata": {},
     "output_type": "execute_result"
    }
   ],
   "source": [
    "data = \"Extra1,Extra2,Extra3\\nName,Age,City\\nAlice,30,New York\\nBob,25,Los Angeles\"\n",
    "\n",
    "# Skip the first row and use the second row as the header\n",
    "df = pd.read_csv(StringIO(data), header=None)  # Here, the first row (Extra1,Extra2,Extra3) will not be ignored.\n",
    "df"
   ]
  },
  {
   "cell_type": "markdown",
   "id": "b190ef3c-caf7-4df1-9ccb-d83037da4230",
   "metadata": {},
   "source": [
    "**(iv) usecols (Select Columns):**\n",
    "- This parameter lets us read specific columns from the CSV file.\n",
    "- It’s particularly useful when dealing with large datasets where we only need a subset of the columns."
   ]
  },
  {
   "cell_type": "code",
   "execution_count": 17,
   "id": "e3a3a0c2-a843-4ef3-9f71-c2ef1943fa0c",
   "metadata": {},
   "outputs": [
    {
     "data": {
      "text/html": [
       "<div>\n",
       "<style scoped>\n",
       "    .dataframe tbody tr th:only-of-type {\n",
       "        vertical-align: middle;\n",
       "    }\n",
       "\n",
       "    .dataframe tbody tr th {\n",
       "        vertical-align: top;\n",
       "    }\n",
       "\n",
       "    .dataframe thead th {\n",
       "        text-align: right;\n",
       "    }\n",
       "</style>\n",
       "<table border=\"1\" class=\"dataframe\">\n",
       "  <thead>\n",
       "    <tr style=\"text-align: right;\">\n",
       "      <th></th>\n",
       "      <th>Name</th>\n",
       "      <th>City</th>\n",
       "    </tr>\n",
       "  </thead>\n",
       "  <tbody>\n",
       "    <tr>\n",
       "      <th>0</th>\n",
       "      <td>Alice</td>\n",
       "      <td>New York</td>\n",
       "    </tr>\n",
       "    <tr>\n",
       "      <th>1</th>\n",
       "      <td>Bob</td>\n",
       "      <td>Los Angeles</td>\n",
       "    </tr>\n",
       "  </tbody>\n",
       "</table>\n",
       "</div>"
      ],
      "text/plain": [
       "    Name         City\n",
       "0  Alice     New York\n",
       "1    Bob  Los Angeles"
      ]
     },
     "execution_count": 17,
     "metadata": {},
     "output_type": "execute_result"
    }
   ],
   "source": [
    "data = \"Name,Age,City,Salary\\nAlice,30,New York,50000\\nBob,25,Los Angeles,45000\"\n",
    "\n",
    "# Reading only the 'Name' and 'City' columns\n",
    "df = df = pd.read_csv(StringIO(data), usecols=['Name', 'City'])\n",
    "df"
   ]
  },
  {
   "cell_type": "markdown",
   "id": "e14e04e2-5836-47d2-8a91-ecb2ddf549a5",
   "metadata": {},
   "source": [
    "**(v) skiprows (Skip Initial Rows):**\n",
    "- This skips a specified number of rows from the beginning of the file.\n",
    "- We can also pass a list of row indices to skip specific rows."
   ]
  },
  {
   "cell_type": "code",
   "execution_count": 22,
   "id": "7fbec284-46bb-47b4-b35a-e1a5d17edfaa",
   "metadata": {},
   "outputs": [
    {
     "name": "stdout",
     "output_type": "stream",
     "text": [
      "    Name  Age         City\n",
      "0  Alice   30     New York\n",
      "1    Bob   25  Los Angeles\n"
     ]
    }
   ],
   "source": [
    "data = \"Ignore1,Ignore2\\nName,Age,City\\nAlice,30,New York\\nBob,25,Los Angeles\"\n",
    "\n",
    "# Skip the first row\n",
    "df = pd.read_csv(StringIO(data), skiprows=1)\n",
    "print(df)"
   ]
  },
  {
   "cell_type": "markdown",
   "id": "e0e84f3e-acd6-4723-8e22-ee7a24db3e1f",
   "metadata": {},
   "source": [
    "**(vi) nrows (Number of Rows):**\n",
    "- Reads only the first n rows of the file. It’s helpful when previewing a large file."
   ]
  },
  {
   "cell_type": "code",
   "execution_count": 25,
   "id": "0fa5edfe-81a6-4156-92d9-21e9454e87e6",
   "metadata": {},
   "outputs": [
    {
     "data": {
      "text/html": [
       "<div>\n",
       "<style scoped>\n",
       "    .dataframe tbody tr th:only-of-type {\n",
       "        vertical-align: middle;\n",
       "    }\n",
       "\n",
       "    .dataframe tbody tr th {\n",
       "        vertical-align: top;\n",
       "    }\n",
       "\n",
       "    .dataframe thead th {\n",
       "        text-align: right;\n",
       "    }\n",
       "</style>\n",
       "<table border=\"1\" class=\"dataframe\">\n",
       "  <thead>\n",
       "    <tr style=\"text-align: right;\">\n",
       "      <th></th>\n",
       "      <th>Name</th>\n",
       "      <th>Age</th>\n",
       "      <th>City</th>\n",
       "    </tr>\n",
       "  </thead>\n",
       "  <tbody>\n",
       "    <tr>\n",
       "      <th>0</th>\n",
       "      <td>Alice</td>\n",
       "      <td>30</td>\n",
       "      <td>New York</td>\n",
       "    </tr>\n",
       "    <tr>\n",
       "      <th>1</th>\n",
       "      <td>Bob</td>\n",
       "      <td>25</td>\n",
       "      <td>Los Angeles</td>\n",
       "    </tr>\n",
       "  </tbody>\n",
       "</table>\n",
       "</div>"
      ],
      "text/plain": [
       "    Name  Age         City\n",
       "0  Alice   30     New York\n",
       "1    Bob   25  Los Angeles"
      ]
     },
     "execution_count": 25,
     "metadata": {},
     "output_type": "execute_result"
    }
   ],
   "source": [
    "data = \"Name,Age,City\\nAlice,30,New York\\nBob,25,Los Angeles\\nCharlie,35,Chicago\"\n",
    "\n",
    "# Read only the first 2 rows\n",
    "df = pd.read_csv(StringIO(data), nrows=2)\n",
    "df"
   ]
  },
  {
   "cell_type": "markdown",
   "id": "5b270db9-4239-4434-b33f-1de06c338a22",
   "metadata": {},
   "source": [
    "**(vii) encoding (Text Encoding):**\n",
    "- The encoding parameter is used to specify the character encoding of the file. It’s necessary when the file contains special characters, such as accented letters or non-English text.\n",
    "- Common encodings are:\n",
    "  - utf-8 (default)\n",
    "  - latin-1\n",
    "  - cp1252\n",
    "- Why is it useful?\n",
    "  - Without specifying the correct encoding, we might encounter errors like UnicodeDecodeError."
   ]
  },
  {
   "cell_type": "code",
   "execution_count": 27,
   "id": "b7a19647-2005-4024-8449-325284f8b4d0",
   "metadata": {},
   "outputs": [
    {
     "data": {
      "text/html": [
       "<div>\n",
       "<style scoped>\n",
       "    .dataframe tbody tr th:only-of-type {\n",
       "        vertical-align: middle;\n",
       "    }\n",
       "\n",
       "    .dataframe tbody tr th {\n",
       "        vertical-align: top;\n",
       "    }\n",
       "\n",
       "    .dataframe thead th {\n",
       "        text-align: right;\n",
       "    }\n",
       "</style>\n",
       "<table border=\"1\" class=\"dataframe\">\n",
       "  <thead>\n",
       "    <tr style=\"text-align: right;\">\n",
       "      <th></th>\n",
       "      <th>Name</th>\n",
       "      <th>City</th>\n",
       "    </tr>\n",
       "  </thead>\n",
       "  <tbody>\n",
       "    <tr>\n",
       "      <th>0</th>\n",
       "      <td>José</td>\n",
       "      <td>México</td>\n",
       "    </tr>\n",
       "    <tr>\n",
       "      <th>1</th>\n",
       "      <td>Zoë</td>\n",
       "      <td>België</td>\n",
       "    </tr>\n",
       "  </tbody>\n",
       "</table>\n",
       "</div>"
      ],
      "text/plain": [
       "   Name    City\n",
       "0  José  México\n",
       "1   Zoë  België"
      ]
     },
     "execution_count": 27,
     "metadata": {},
     "output_type": "execute_result"
    }
   ],
   "source": [
    "# Example data saved in a file with special characters and Latin-1 encoding\n",
    "data = \"Name,City\\nJosé,México\\nZoë,België\"\n",
    "\n",
    "# Save it in a StringIO object with utf-8 encoding for demonstration\n",
    "file = StringIO(data)\n",
    "\n",
    "# Read the file with the correct encoding\n",
    "df = pd.read_csv(file, encoding='utf-8') # Special characters like José and México are correctly read when the utf-8 encoding is specified.\n",
    "df"
   ]
  },
  {
   "cell_type": "markdown",
   "id": "365d2665-f7c4-4c2a-9532-40a791d37a4b",
   "metadata": {},
   "source": [
    "**(viii) on_bad_lines (Handling Bad Lines):**\n",
    "- In some files, there may be rows with errors (e.g., missing values or extra columns). on_bad_lines helps handle such cases:\n",
    "  - error: Raises an error.\n",
    "  - warn: Logs a warning and skips the line.\n",
    "  - skip: Simply skips bad lines without warnings."
   ]
  },
  {
   "cell_type": "code",
   "execution_count": 28,
   "id": "4978a582-8593-4c37-8c94-7d165ebac831",
   "metadata": {},
   "outputs": [
    {
     "data": {
      "text/html": [
       "<div>\n",
       "<style scoped>\n",
       "    .dataframe tbody tr th:only-of-type {\n",
       "        vertical-align: middle;\n",
       "    }\n",
       "\n",
       "    .dataframe tbody tr th {\n",
       "        vertical-align: top;\n",
       "    }\n",
       "\n",
       "    .dataframe thead th {\n",
       "        text-align: right;\n",
       "    }\n",
       "</style>\n",
       "<table border=\"1\" class=\"dataframe\">\n",
       "  <thead>\n",
       "    <tr style=\"text-align: right;\">\n",
       "      <th></th>\n",
       "      <th>Name</th>\n",
       "      <th>Age</th>\n",
       "      <th>City</th>\n",
       "    </tr>\n",
       "  </thead>\n",
       "  <tbody>\n",
       "    <tr>\n",
       "      <th>0</th>\n",
       "      <td>Alice</td>\n",
       "      <td>30.0</td>\n",
       "      <td>New York</td>\n",
       "    </tr>\n",
       "    <tr>\n",
       "      <th>1</th>\n",
       "      <td>BadLine</td>\n",
       "      <td>NaN</td>\n",
       "      <td>NaN</td>\n",
       "    </tr>\n",
       "    <tr>\n",
       "      <th>2</th>\n",
       "      <td>Bob</td>\n",
       "      <td>25.0</td>\n",
       "      <td>Los Angeles</td>\n",
       "    </tr>\n",
       "  </tbody>\n",
       "</table>\n",
       "</div>"
      ],
      "text/plain": [
       "      Name   Age         City\n",
       "0    Alice  30.0     New York\n",
       "1  BadLine   NaN          NaN\n",
       "2      Bob  25.0  Los Angeles"
      ]
     },
     "execution_count": 28,
     "metadata": {},
     "output_type": "execute_result"
    }
   ],
   "source": [
    "data = \"Name,Age,City\\nAlice,30,New York\\nBadLine\\nBob,25,Los Angeles\"\n",
    "\n",
    "# If we do not use 'skip' to skip bad lines\n",
    "df = pd.read_csv(StringIO(data))\n",
    "df"
   ]
  },
  {
   "cell_type": "code",
   "execution_count": 31,
   "id": "c41624d6-8827-440a-bfe9-2961be57f2dd",
   "metadata": {},
   "outputs": [
    {
     "data": {
      "text/html": [
       "<div>\n",
       "<style scoped>\n",
       "    .dataframe tbody tr th:only-of-type {\n",
       "        vertical-align: middle;\n",
       "    }\n",
       "\n",
       "    .dataframe tbody tr th {\n",
       "        vertical-align: top;\n",
       "    }\n",
       "\n",
       "    .dataframe thead th {\n",
       "        text-align: right;\n",
       "    }\n",
       "</style>\n",
       "<table border=\"1\" class=\"dataframe\">\n",
       "  <thead>\n",
       "    <tr style=\"text-align: right;\">\n",
       "      <th></th>\n",
       "      <th>Name</th>\n",
       "      <th>Age</th>\n",
       "      <th>City</th>\n",
       "    </tr>\n",
       "  </thead>\n",
       "  <tbody>\n",
       "    <tr>\n",
       "      <th>0</th>\n",
       "      <td>Alice</td>\n",
       "      <td>30.0</td>\n",
       "      <td>New York</td>\n",
       "    </tr>\n",
       "    <tr>\n",
       "      <th>1</th>\n",
       "      <td>BadLine</td>\n",
       "      <td>NaN</td>\n",
       "      <td>NaN</td>\n",
       "    </tr>\n",
       "    <tr>\n",
       "      <th>2</th>\n",
       "      <td>Bob</td>\n",
       "      <td>25.0</td>\n",
       "      <td>Los Angeles</td>\n",
       "    </tr>\n",
       "  </tbody>\n",
       "</table>\n",
       "</div>"
      ],
      "text/plain": [
       "      Name   Age         City\n",
       "0    Alice  30.0     New York\n",
       "1  BadLine   NaN          NaN\n",
       "2      Bob  25.0  Los Angeles"
      ]
     },
     "execution_count": 31,
     "metadata": {},
     "output_type": "execute_result"
    }
   ],
   "source": [
    "data = \"Name,Age,City\\nAlice,30,New York\\nBadLine\\nBob,25,Los Angeles\"\n",
    "\n",
    "# Using 'skip' to skip bad lines\n",
    "df = pd.read_csv(StringIO(data), on_bad_lines='skip')   # If there would be some bad line then it would be skipped\n",
    "df"
   ]
  },
  {
   "cell_type": "markdown",
   "id": "c8fe85bc-d803-450c-adf5-645956edff7c",
   "metadata": {},
   "source": [
    "- Why BadLine is not skipped here?\n",
    "  - Although it appears to be \"bad,\" it has only one field, and pandas tries to parse it into the first column, leaving the remaining columns as NaN. Therefore, pandas does not consider it an unparsable line and does not skip it."
   ]
  },
  {
   "cell_type": "markdown",
   "id": "13d0a2bc-3f50-4d7c-9cdf-fa8fdb8f0c8b",
   "metadata": {},
   "source": [
    "**(ix) dtype (Specifying Data Types):**\n",
    "- This parameter lets us define the data type of each column. It is useful to ensure consistency, avoid unnecessary memory usage (for instance we may have column with int data but its type as float, hence leading to memory wastage), or fix type mismatches."
   ]
  },
  {
   "cell_type": "code",
   "execution_count": 32,
   "id": "02eefa4f-1af1-47a1-b6bf-5f2681e150e3",
   "metadata": {},
   "outputs": [
    {
     "name": "stdout",
     "output_type": "stream",
     "text": [
      "    Name   Age  Salary\n",
      "0  Alice  30.0   50000\n",
      "1    Bob  25.0   45000\n",
      "Name       object\n",
      "Age       float64\n",
      "Salary      int64\n",
      "dtype: object\n"
     ]
    }
   ],
   "source": [
    "data = \"Name,Age,Salary\\nAlice,30,50000\\nBob,25,45000\"\n",
    "\n",
    "# Reading the file and forcing 'Age' as a float\n",
    "df = pd.read_csv(StringIO(data), dtype={'Age': 'float', 'Salary': 'int'})\n",
    "print(df)\n",
    "print(df.dtypes)"
   ]
  },
  {
   "cell_type": "markdown",
   "id": "0bbbf507-e6fb-46cf-adad-b757dcffc64e",
   "metadata": {},
   "source": [
    "**(x) parse_dates (Handling Dates):**\n",
    "- This parameter converts columns containing date information into datetime objects.\n",
    "- Why is it useful?\n",
    "  - Dates are often stored as strings in CSV files, making it hard to perform operations like filtering by year or calculating durations.\n",
    "  - parse_dates automatically converts these strings to datetime."
   ]
  },
  {
   "cell_type": "code",
   "execution_count": 33,
   "id": "f504b103-9648-4f5f-be4b-f3ce56125277",
   "metadata": {},
   "outputs": [
    {
     "name": "stdout",
     "output_type": "stream",
     "text": [
      "    Name        DOB\n",
      "0  Alice 1990-01-01\n",
      "1    Bob 1995-05-15\n",
      "Name            object\n",
      "DOB     datetime64[ns]\n",
      "dtype: object\n"
     ]
    }
   ],
   "source": [
    "data = \"Name,DOB\\nAlice,1990-01-01\\nBob,1995-05-15\"\n",
    "\n",
    "# Automatically parse the 'DOB' column as datetime\n",
    "df = pd.read_csv(StringIO(data), parse_dates=['DOB'])\n",
    "print(df)\n",
    "print(df.dtypes)"
   ]
  },
  {
   "cell_type": "markdown",
   "id": "96436795-8542-48f9-bc35-62fd64892a9d",
   "metadata": {},
   "source": [
    "**(xi) converters (Custom Transformations):**\n",
    "- The converters parameter allows us to apply a custom function to transform the values in specific columns as they are read."
   ]
  },
  {
   "cell_type": "code",
   "execution_count": 34,
   "id": "72591819-125e-4ba4-ac0e-cc0cd8944ee0",
   "metadata": {},
   "outputs": [
    {
     "name": "stdout",
     "output_type": "stream",
     "text": [
      "    Name  Salary\n",
      "0  Alice    1000\n",
      "1    Bob    2000\n"
     ]
    }
   ],
   "source": [
    "data = \"Name,Salary\\nAlice,$1000\\nBob,$2000\"\n",
    "\n",
    "# Custom function to remove the dollar sign and convert to int\n",
    "df = pd.read_csv(StringIO(data), converters={'Salary': lambda x: int(x.strip('$'))}) \n",
    "# The Salary column contains $ symbols, which are removed by the custom function. Also this column is converted to integers.\n",
    "print(df)"
   ]
  },
  {
   "cell_type": "markdown",
   "id": "d09d7fb6-4957-4725-a6d9-a938be621197",
   "metadata": {},
   "source": [
    "**(xii) na_values (Handling Missing Values):**\n",
    "- This parameter specifies additional values to treat as missing (NaN).\n",
    "- Why is it useful?\n",
    "  - In some files, missing data might be represented as special strings like NA, Unknown, or N/A. We can specify these strings with na_values so pandas correctly identify them as missing."
   ]
  },
  {
   "cell_type": "code",
   "execution_count": 35,
   "id": "eeb07438-f94f-4712-89bf-fd582730ddc6",
   "metadata": {},
   "outputs": [
    {
     "data": {
      "text/html": [
       "<div>\n",
       "<style scoped>\n",
       "    .dataframe tbody tr th:only-of-type {\n",
       "        vertical-align: middle;\n",
       "    }\n",
       "\n",
       "    .dataframe tbody tr th {\n",
       "        vertical-align: top;\n",
       "    }\n",
       "\n",
       "    .dataframe thead th {\n",
       "        text-align: right;\n",
       "    }\n",
       "</style>\n",
       "<table border=\"1\" class=\"dataframe\">\n",
       "  <thead>\n",
       "    <tr style=\"text-align: right;\">\n",
       "      <th></th>\n",
       "      <th>Name</th>\n",
       "      <th>Age</th>\n",
       "      <th>City</th>\n",
       "    </tr>\n",
       "  </thead>\n",
       "  <tbody>\n",
       "    <tr>\n",
       "      <th>0</th>\n",
       "      <td>Alice</td>\n",
       "      <td>30.0</td>\n",
       "      <td>New York</td>\n",
       "    </tr>\n",
       "    <tr>\n",
       "      <th>1</th>\n",
       "      <td>Bob</td>\n",
       "      <td>NaN</td>\n",
       "      <td>NaN</td>\n",
       "    </tr>\n",
       "  </tbody>\n",
       "</table>\n",
       "</div>"
      ],
      "text/plain": [
       "    Name   Age      City\n",
       "0  Alice  30.0  New York\n",
       "1    Bob   NaN       NaN"
      ]
     },
     "execution_count": 35,
     "metadata": {},
     "output_type": "execute_result"
    }
   ],
   "source": [
    "data = \"Name,Age,City\\nAlice,30,New York\\nBob,NaN,Unknown\"\n",
    "\n",
    "# Treat 'Unknown' as a missing value\n",
    "df = pd.read_csv(StringIO(data), na_values=['Unknown']) # The string Unknown is treated as NaN.\n",
    "df"
   ]
  },
  {
   "cell_type": "markdown",
   "id": "f30cca60-be79-434c-8e77-c3a11931543b",
   "metadata": {},
   "source": [
    "**(xiii) chunsize**\n",
    "- Helps loading data in chunks."
   ]
  },
  {
   "cell_type": "code",
   "execution_count": 5,
   "id": "c59280f3-3fec-42cc-aff5-5f0864c4e786",
   "metadata": {},
   "outputs": [
    {
     "name": "stdout",
     "output_type": "stream",
     "text": [
      "(10, 3)\n",
      "      Name   Age         City\n",
      "0    Alice  30.0     New York\n",
      "1  BadLine   NaN          NaN\n",
      "2      Bob  25.0  Los Angeles\n",
      "3    Alice  30.0     New York\n",
      "4  BadLine   NaN          NaN\n",
      "5      Bob  25.0  Los Angeles\n",
      "6    Alice  30.0     New York\n",
      "7  BadLine   NaN          NaN\n",
      "8      Bob  25.0  Los Angeles\n",
      "9    Alice  30.0     New York\n",
      "(5, 3)\n",
      "       Name   Age         City\n",
      "10  BadLine   NaN          NaN\n",
      "11      Bob  25.0  Los Angeles\n",
      "12    Alice  30.0     New York\n",
      "13  BadLine   NaN          NaN\n",
      "14      Bob  25.0  Los Angeles\n"
     ]
    }
   ],
   "source": [
    "data = \"Name,Age,City\\nAlice,30,New York\\nBadLine\\nBob,25,Los Angeles\\nAlice,30,New York\\nBadLine\\nBob,25,Los Angeles\\nAlice,30,New York\\nBadLine\\nBob,25,Los Angeles\\nAlice,30,New York\\nBadLine\\nBob,25,Los Angeles\\nAlice,30,New York\\nBadLine\\nBob,25,Los Angeles\"\n",
    "\n",
    "dfs = pd.read_csv(StringIO(data), chunksize=10);\n",
    "\n",
    "# We can perform the task on each chunk:\n",
    "for chunk in dfs:\n",
    "    print(chunk.shape)\n",
    "    print(chunk)"
   ]
  },
  {
   "cell_type": "markdown",
   "id": "ae7d24a3-10fe-4c5f-a990-f222e60a240e",
   "metadata": {},
   "source": [
    "**(v) squeeze (Convert to Series):**\n",
    "- If our data contains only one column, setting squeeze=True will convert the DataFrame into a pandas Series."
   ]
  },
  {
   "cell_type": "code",
   "execution_count": 4,
   "id": "34ca0cb0-0932-4b75-9e68-4cabab4c674e",
   "metadata": {},
   "outputs": [
    {
     "ename": "TypeError",
     "evalue": "read_csv() got an unexpected keyword argument 'squeeze'",
     "output_type": "error",
     "traceback": [
      "\u001b[1;31m---------------------------------------------------------------------------\u001b[0m",
      "\u001b[1;31mTypeError\u001b[0m                                 Traceback (most recent call last)",
      "Cell \u001b[1;32mIn[4], line 4\u001b[0m\n\u001b[0;32m      1\u001b[0m data \u001b[38;5;241m=\u001b[39m \u001b[38;5;124m\"\u001b[39m\u001b[38;5;124mName\u001b[39m\u001b[38;5;130;01m\\n\u001b[39;00m\u001b[38;5;124mAlice\u001b[39m\u001b[38;5;130;01m\\n\u001b[39;00m\u001b[38;5;124mBob\u001b[39m\u001b[38;5;124m\"\u001b[39m\n\u001b[0;32m      3\u001b[0m \u001b[38;5;66;03m# Reading as a single-column Series\u001b[39;00m\n\u001b[1;32m----> 4\u001b[0m df \u001b[38;5;241m=\u001b[39m \u001b[43mpd\u001b[49m\u001b[38;5;241;43m.\u001b[39;49m\u001b[43mread_csv\u001b[49m\u001b[43m(\u001b[49m\u001b[43mStringIO\u001b[49m\u001b[43m(\u001b[49m\u001b[43mdata\u001b[49m\u001b[43m)\u001b[49m\u001b[43m,\u001b[49m\u001b[43m \u001b[49m\u001b[43msqueeze\u001b[49m\u001b[38;5;241;43m=\u001b[39;49m\u001b[38;5;28;43;01mTrue\u001b[39;49;00m\u001b[43m)\u001b[49m\n\u001b[0;32m      5\u001b[0m \u001b[38;5;28mprint\u001b[39m(df)\n",
      "\u001b[1;31mTypeError\u001b[0m: read_csv() got an unexpected keyword argument 'squeeze'"
     ]
    }
   ],
   "source": [
    "data = \"Name\\nAlice\\nBob\"\n",
    "\n",
    "# Reading as a single-column Series\n",
    "df = pd.read_csv(StringIO(data), squeeze=True)\n",
    "print(df)"
   ]
  },
  {
   "cell_type": "code",
   "execution_count": null,
   "id": "39e2df8f-8692-48be-8ce7-c4fd36da3d6a",
   "metadata": {},
   "outputs": [],
   "source": [
    "# Summary:\n",
    "Parameter                           Purpose  \n",
    "sep\t                   Specify how columns are separated (e.g., ;)  \n",
    "index_col\t           Set a specific column as the row index.  \n",
    "header\t               Define which row contains column headers.  \n",
    "usecols\t               Read only specific columns.\n",
    "squeeze\t               Convert single-column DataFrame to Series.  \n",
    "skiprows\t           Skip rows at the start of the file.  \n",
    "nrows\t               Limit the number of rows to read.  \n",
    "encoding\t           Specify file encoding (e.g., utf-8, latin-1).  \n",
    "on_bad_lines\t       Handle lines with errors (e.g., skip them).  \n",
    "dtype\t               Enforce specific data types for columns.  \n",
    "parse_dates\t           Convert date strings to datetime objects.  \n",
    "converters\t           Apply custom functions to transform column values.  \n",
    "na_values\t           Treat specific strings as missing (NaN)."
   ]
  },
  {
   "cell_type": "markdown",
   "id": "31a599fc-0934-4812-9e8e-cc02303c3bb2",
   "metadata": {},
   "source": [
    "================================================================================================================"
   ]
  },
  {
   "cell_type": "markdown",
   "id": "5ef86790-b8f3-4950-b024-34489fb0caa4",
   "metadata": {
    "jp-MarkdownHeadingCollapsed": true
   },
   "source": [
    "### II) Reading Excel File (read_excel)"
   ]
  },
  {
   "cell_type": "markdown",
   "id": "8f7646ed-1659-4580-a29d-555c1862ac79",
   "metadata": {},
   "source": [
    "- Syntax: pandas.read_excel(io, sheet_name=0, header=0, usecols=None, nrows=None, ...)\n",
    "  - Key Parameters:\n",
    "    - io: File path or URL of the Excel file.\n",
    "    - sheet_name: Excel file can have multiple sheets, sheet_name specifies the sheet to read (default is the first sheet).\n",
    "    - header: Row number to use as the column names (default is the first row).\n",
    "    - usecols: Columns to read (e.g., \"A:C\" or a list like [0, 2]).\n",
    "    - nrows: Number of rows to read."
   ]
  },
  {
   "cell_type": "code",
   "execution_count": null,
   "id": "b11de4f9-1dc1-41d9-8310-3b0d67920e05",
   "metadata": {},
   "outputs": [],
   "source": [
    "# Example: To read a specific sheet, use the sheet_name parameter:\n",
    "data = pd.read_excel(\"data.xlsx\", sheet_name=\"Sheet2\")"
   ]
  },
  {
   "cell_type": "markdown",
   "id": "11b856a0-9f16-48c4-84de-af4172bf8995",
   "metadata": {},
   "source": [
    "- Note: We can even use index_col parameter, it will work same as it did in read_csv()."
   ]
  },
  {
   "cell_type": "code",
   "execution_count": null,
   "id": "3f07c490-d45e-45e2-8a23-1089ed71d248",
   "metadata": {},
   "outputs": [],
   "source": [
    "# Example: We can load specific columns by specifying usecols:\n",
    "data = pd.read_excel(\"data.xlsx\", usecols=[\"Name\", \"Age\"])"
   ]
  },
  {
   "cell_type": "code",
   "execution_count": null,
   "id": "58759e9b-da9d-4420-a12e-9dba23b4d781",
   "metadata": {},
   "outputs": [],
   "source": [
    "# Example: Use nrows to read a limited number of rows:\n",
    "data = pd.read_excel(\"data.xlsx\", nrows=2)"
   ]
  },
  {
   "cell_type": "markdown",
   "id": "2aea284b-b21c-46ca-98f6-834160114239",
   "metadata": {},
   "source": [
    "- If our Excel file has missing values, they are automatically handled as NaN."
   ]
  },
  {
   "cell_type": "code",
   "execution_count": null,
   "id": "cb79dcba-9305-4e8e-a231-852d7df0cb07",
   "metadata": {},
   "outputs": [],
   "source": [
    "# Example: Reading Multiple Sheets:\n",
    "sheets = pd.read_excel(\"data.xlsx\", sheet_name=None)  # Returns a dictionary of DataFrames\n",
    "print(sheets.keys())  # List all sheet names"
   ]
  },
  {
   "cell_type": "code",
   "execution_count": null,
   "id": "9513f4f8-9438-4f08-9b90-6856c85381bd",
   "metadata": {},
   "outputs": [],
   "source": [
    "# Example: Skipping Rows:\n",
    "data = pd.read_excel(\"data.xlsx\", skiprows=1)  # Skip the first row"
   ]
  },
  {
   "cell_type": "code",
   "execution_count": null,
   "id": "ff86ed56-8963-4d0f-95b3-e083ee484cf5",
   "metadata": {},
   "outputs": [],
   "source": [
    "# Example: Specifying Data Types:\n",
    "data = pd.read_excel(\"data.xlsx\", dtype={\"Age\": int})"
   ]
  },
  {
   "cell_type": "markdown",
   "id": "0bfa1d73-7fac-45da-9c86-76870595b3c6",
   "metadata": {},
   "source": [
    "- Common Errors and Fixes\n",
    "  - FileNotFoundError: Ensure the file path is correct.\n",
    "  - ValueError: Check the sheet name if it doesn’t exist.\n",
    "  - Missing openpyxl: Install it using pip install openpyxl."
   ]
  },
  {
   "cell_type": "markdown",
   "id": "65e9ab95-ab54-480b-ae93-249ff46e6feb",
   "metadata": {
    "jp-MarkdownHeadingCollapsed": true
   },
   "source": [
    "### III) Reading txt files"
   ]
  },
  {
   "cell_type": "markdown",
   "id": "7fcf7679-8649-4435-ad0f-30885137b417",
   "metadata": {},
   "source": [
    "- Before loading text file we need to make sure what is the separator between the columns."
   ]
  },
  {
   "cell_type": "code",
   "execution_count": null,
   "id": "9c3807c1-8881-4d78-bb4a-1bee8dc921c3",
   "metadata": {},
   "outputs": [],
   "source": [
    "# Example: Assuming the saparator is a tab:\n",
    "pd.read_csv('que.txt', sep='\\t')  # Here, we use read_csv() only"
   ]
  },
  {
   "cell_type": "markdown",
   "id": "9eccac25-0457-4c2f-aed2-7be79f87e65f",
   "metadata": {
    "jp-MarkdownHeadingCollapsed": true
   },
   "source": [
    "### IV) Importing Data from JSON (read_json):"
   ]
  },
  {
   "cell_type": "markdown",
   "id": "eb85a2e6-eb8e-4af2-b595-c05953eab5bc",
   "metadata": {},
   "source": [
    "- We will be using train.json dataset here.\n",
    "- It is present on Kaggle website in Recipe Ingredients Dataset.\n",
    "- This JSON is basicall a prediction of cuisnine based on the ingredients/"
   ]
  },
  {
   "cell_type": "code",
   "execution_count": 6,
   "id": "9dd03051-6e7b-4e28-9783-58baa2139323",
   "metadata": {},
   "outputs": [
    {
     "data": {
      "text/html": [
       "<div>\n",
       "<style scoped>\n",
       "    .dataframe tbody tr th:only-of-type {\n",
       "        vertical-align: middle;\n",
       "    }\n",
       "\n",
       "    .dataframe tbody tr th {\n",
       "        vertical-align: top;\n",
       "    }\n",
       "\n",
       "    .dataframe thead th {\n",
       "        text-align: right;\n",
       "    }\n",
       "</style>\n",
       "<table border=\"1\" class=\"dataframe\">\n",
       "  <thead>\n",
       "    <tr style=\"text-align: right;\">\n",
       "      <th></th>\n",
       "      <th>id</th>\n",
       "      <th>cuisine</th>\n",
       "      <th>ingredients</th>\n",
       "    </tr>\n",
       "  </thead>\n",
       "  <tbody>\n",
       "    <tr>\n",
       "      <th>0</th>\n",
       "      <td>10259</td>\n",
       "      <td>greek</td>\n",
       "      <td>[romaine lettuce, black olives, grape tomatoes...</td>\n",
       "    </tr>\n",
       "    <tr>\n",
       "      <th>1</th>\n",
       "      <td>25693</td>\n",
       "      <td>southern_us</td>\n",
       "      <td>[plain flour, ground pepper, salt, tomatoes, g...</td>\n",
       "    </tr>\n",
       "    <tr>\n",
       "      <th>2</th>\n",
       "      <td>20130</td>\n",
       "      <td>filipino</td>\n",
       "      <td>[eggs, pepper, salt, mayonaise, cooking oil, g...</td>\n",
       "    </tr>\n",
       "    <tr>\n",
       "      <th>3</th>\n",
       "      <td>22213</td>\n",
       "      <td>indian</td>\n",
       "      <td>[water, vegetable oil, wheat, salt]</td>\n",
       "    </tr>\n",
       "    <tr>\n",
       "      <th>4</th>\n",
       "      <td>13162</td>\n",
       "      <td>indian</td>\n",
       "      <td>[black pepper, shallots, cornflour, cayenne pe...</td>\n",
       "    </tr>\n",
       "    <tr>\n",
       "      <th>...</th>\n",
       "      <td>...</td>\n",
       "      <td>...</td>\n",
       "      <td>...</td>\n",
       "    </tr>\n",
       "    <tr>\n",
       "      <th>39769</th>\n",
       "      <td>29109</td>\n",
       "      <td>irish</td>\n",
       "      <td>[light brown sugar, granulated sugar, butter, ...</td>\n",
       "    </tr>\n",
       "    <tr>\n",
       "      <th>39770</th>\n",
       "      <td>11462</td>\n",
       "      <td>italian</td>\n",
       "      <td>[KRAFT Zesty Italian Dressing, purple onion, b...</td>\n",
       "    </tr>\n",
       "    <tr>\n",
       "      <th>39771</th>\n",
       "      <td>2238</td>\n",
       "      <td>irish</td>\n",
       "      <td>[eggs, citrus fruit, raisins, sourdough starte...</td>\n",
       "    </tr>\n",
       "    <tr>\n",
       "      <th>39772</th>\n",
       "      <td>41882</td>\n",
       "      <td>chinese</td>\n",
       "      <td>[boneless chicken skinless thigh, minced garli...</td>\n",
       "    </tr>\n",
       "    <tr>\n",
       "      <th>39773</th>\n",
       "      <td>2362</td>\n",
       "      <td>mexican</td>\n",
       "      <td>[green chile, jalapeno chilies, onions, ground...</td>\n",
       "    </tr>\n",
       "  </tbody>\n",
       "</table>\n",
       "<p>39774 rows × 3 columns</p>\n",
       "</div>"
      ],
      "text/plain": [
       "          id      cuisine                                        ingredients\n",
       "0      10259        greek  [romaine lettuce, black olives, grape tomatoes...\n",
       "1      25693  southern_us  [plain flour, ground pepper, salt, tomatoes, g...\n",
       "2      20130     filipino  [eggs, pepper, salt, mayonaise, cooking oil, g...\n",
       "3      22213       indian                [water, vegetable oil, wheat, salt]\n",
       "4      13162       indian  [black pepper, shallots, cornflour, cayenne pe...\n",
       "...      ...          ...                                                ...\n",
       "39769  29109        irish  [light brown sugar, granulated sugar, butter, ...\n",
       "39770  11462      italian  [KRAFT Zesty Italian Dressing, purple onion, b...\n",
       "39771   2238        irish  [eggs, citrus fruit, raisins, sourdough starte...\n",
       "39772  41882      chinese  [boneless chicken skinless thigh, minced garli...\n",
       "39773   2362      mexican  [green chile, jalapeno chilies, onions, ground...\n",
       "\n",
       "[39774 rows x 3 columns]"
      ]
     },
     "execution_count": 6,
     "metadata": {},
     "output_type": "execute_result"
    }
   ],
   "source": [
    "# Example: Importing from a file:\n",
    "pd.read_json('train.json')"
   ]
  },
  {
   "cell_type": "code",
   "execution_count": 7,
   "id": "d6098730-fff9-4d06-bf16-a47f889e350f",
   "metadata": {},
   "outputs": [
    {
     "data": {
      "text/html": [
       "<div>\n",
       "<style scoped>\n",
       "    .dataframe tbody tr th:only-of-type {\n",
       "        vertical-align: middle;\n",
       "    }\n",
       "\n",
       "    .dataframe tbody tr th {\n",
       "        vertical-align: top;\n",
       "    }\n",
       "\n",
       "    .dataframe thead th {\n",
       "        text-align: right;\n",
       "    }\n",
       "</style>\n",
       "<table border=\"1\" class=\"dataframe\">\n",
       "  <thead>\n",
       "    <tr style=\"text-align: right;\">\n",
       "      <th></th>\n",
       "      <th>posts</th>\n",
       "      <th>total</th>\n",
       "      <th>skip</th>\n",
       "      <th>limit</th>\n",
       "    </tr>\n",
       "  </thead>\n",
       "  <tbody>\n",
       "    <tr>\n",
       "      <th>0</th>\n",
       "      <td>{'id': 1, 'title': 'His mother had always taug...</td>\n",
       "      <td>251</td>\n",
       "      <td>0</td>\n",
       "      <td>30</td>\n",
       "    </tr>\n",
       "    <tr>\n",
       "      <th>1</th>\n",
       "      <td>{'id': 2, 'title': 'He was an expert but not i...</td>\n",
       "      <td>251</td>\n",
       "      <td>0</td>\n",
       "      <td>30</td>\n",
       "    </tr>\n",
       "    <tr>\n",
       "      <th>2</th>\n",
       "      <td>{'id': 3, 'title': 'Dave watched as the forest...</td>\n",
       "      <td>251</td>\n",
       "      <td>0</td>\n",
       "      <td>30</td>\n",
       "    </tr>\n",
       "    <tr>\n",
       "      <th>3</th>\n",
       "      <td>{'id': 4, 'title': 'All he wanted was a candy ...</td>\n",
       "      <td>251</td>\n",
       "      <td>0</td>\n",
       "      <td>30</td>\n",
       "    </tr>\n",
       "    <tr>\n",
       "      <th>4</th>\n",
       "      <td>{'id': 5, 'title': 'Hopes and dreams were dash...</td>\n",
       "      <td>251</td>\n",
       "      <td>0</td>\n",
       "      <td>30</td>\n",
       "    </tr>\n",
       "    <tr>\n",
       "      <th>5</th>\n",
       "      <td>{'id': 6, 'title': 'Dave wasn't exactly sure h...</td>\n",
       "      <td>251</td>\n",
       "      <td>0</td>\n",
       "      <td>30</td>\n",
       "    </tr>\n",
       "    <tr>\n",
       "      <th>6</th>\n",
       "      <td>{'id': 7, 'title': 'This is important to remem...</td>\n",
       "      <td>251</td>\n",
       "      <td>0</td>\n",
       "      <td>30</td>\n",
       "    </tr>\n",
       "    <tr>\n",
       "      <th>7</th>\n",
       "      <td>{'id': 8, 'title': 'One can cook on and with a...</td>\n",
       "      <td>251</td>\n",
       "      <td>0</td>\n",
       "      <td>30</td>\n",
       "    </tr>\n",
       "    <tr>\n",
       "      <th>8</th>\n",
       "      <td>{'id': 9, 'title': 'There are different types ...</td>\n",
       "      <td>251</td>\n",
       "      <td>0</td>\n",
       "      <td>30</td>\n",
       "    </tr>\n",
       "    <tr>\n",
       "      <th>9</th>\n",
       "      <td>{'id': 10, 'title': 'They rushed out the door....</td>\n",
       "      <td>251</td>\n",
       "      <td>0</td>\n",
       "      <td>30</td>\n",
       "    </tr>\n",
       "    <tr>\n",
       "      <th>10</th>\n",
       "      <td>{'id': 11, 'title': 'It wasn't quite yet time ...</td>\n",
       "      <td>251</td>\n",
       "      <td>0</td>\n",
       "      <td>30</td>\n",
       "    </tr>\n",
       "    <tr>\n",
       "      <th>11</th>\n",
       "      <td>{'id': 12, 'title': 'She was aware that things...</td>\n",
       "      <td>251</td>\n",
       "      <td>0</td>\n",
       "      <td>30</td>\n",
       "    </tr>\n",
       "    <tr>\n",
       "      <th>12</th>\n",
       "      <td>{'id': 13, 'title': 'She wanted rainbow hair.'...</td>\n",
       "      <td>251</td>\n",
       "      <td>0</td>\n",
       "      <td>30</td>\n",
       "    </tr>\n",
       "    <tr>\n",
       "      <th>13</th>\n",
       "      <td>{'id': 14, 'title': 'The paper was blank.', 'b...</td>\n",
       "      <td>251</td>\n",
       "      <td>0</td>\n",
       "      <td>30</td>\n",
       "    </tr>\n",
       "    <tr>\n",
       "      <th>14</th>\n",
       "      <td>{'id': 15, 'title': 'The trees, therefore, mus...</td>\n",
       "      <td>251</td>\n",
       "      <td>0</td>\n",
       "      <td>30</td>\n",
       "    </tr>\n",
       "    <tr>\n",
       "      <th>15</th>\n",
       "      <td>{'id': 16, 'title': 'There was only one way to...</td>\n",
       "      <td>251</td>\n",
       "      <td>0</td>\n",
       "      <td>30</td>\n",
       "    </tr>\n",
       "    <tr>\n",
       "      <th>16</th>\n",
       "      <td>{'id': 17, 'title': 'She was in a hurry.', 'bo...</td>\n",
       "      <td>251</td>\n",
       "      <td>0</td>\n",
       "      <td>30</td>\n",
       "    </tr>\n",
       "    <tr>\n",
       "      <th>17</th>\n",
       "      <td>{'id': 18, 'title': 'She had a terrible habit ...</td>\n",
       "      <td>251</td>\n",
       "      <td>0</td>\n",
       "      <td>30</td>\n",
       "    </tr>\n",
       "    <tr>\n",
       "      <th>18</th>\n",
       "      <td>{'id': 19, 'title': 'The rain and wind abruptl...</td>\n",
       "      <td>251</td>\n",
       "      <td>0</td>\n",
       "      <td>30</td>\n",
       "    </tr>\n",
       "    <tr>\n",
       "      <th>19</th>\n",
       "      <td>{'id': 20, 'title': 'He couldn't remember exac...</td>\n",
       "      <td>251</td>\n",
       "      <td>0</td>\n",
       "      <td>30</td>\n",
       "    </tr>\n",
       "    <tr>\n",
       "      <th>20</th>\n",
       "      <td>{'id': 21, 'title': 'He wandered down the stai...</td>\n",
       "      <td>251</td>\n",
       "      <td>0</td>\n",
       "      <td>30</td>\n",
       "    </tr>\n",
       "    <tr>\n",
       "      <th>21</th>\n",
       "      <td>{'id': 22, 'title': 'She has seen this scene b...</td>\n",
       "      <td>251</td>\n",
       "      <td>0</td>\n",
       "      <td>30</td>\n",
       "    </tr>\n",
       "    <tr>\n",
       "      <th>22</th>\n",
       "      <td>{'id': 23, 'title': 'It's an unfortunate reali...</td>\n",
       "      <td>251</td>\n",
       "      <td>0</td>\n",
       "      <td>30</td>\n",
       "    </tr>\n",
       "    <tr>\n",
       "      <th>23</th>\n",
       "      <td>{'id': 24, 'title': 'The robot clicked disappr...</td>\n",
       "      <td>251</td>\n",
       "      <td>0</td>\n",
       "      <td>30</td>\n",
       "    </tr>\n",
       "    <tr>\n",
       "      <th>24</th>\n",
       "      <td>{'id': 25, 'title': 'It went through such rapi...</td>\n",
       "      <td>251</td>\n",
       "      <td>0</td>\n",
       "      <td>30</td>\n",
       "    </tr>\n",
       "    <tr>\n",
       "      <th>25</th>\n",
       "      <td>{'id': 26, 'title': 'She patiently waited for ...</td>\n",
       "      <td>251</td>\n",
       "      <td>0</td>\n",
       "      <td>30</td>\n",
       "    </tr>\n",
       "    <tr>\n",
       "      <th>26</th>\n",
       "      <td>{'id': 27, 'title': 'Ten more steps.', 'body':...</td>\n",
       "      <td>251</td>\n",
       "      <td>0</td>\n",
       "      <td>30</td>\n",
       "    </tr>\n",
       "    <tr>\n",
       "      <th>27</th>\n",
       "      <td>{'id': 28, 'title': 'He had three simple rules...</td>\n",
       "      <td>251</td>\n",
       "      <td>0</td>\n",
       "      <td>30</td>\n",
       "    </tr>\n",
       "    <tr>\n",
       "      <th>28</th>\n",
       "      <td>{'id': 29, 'title': 'The chair sat in the corn...</td>\n",
       "      <td>251</td>\n",
       "      <td>0</td>\n",
       "      <td>30</td>\n",
       "    </tr>\n",
       "    <tr>\n",
       "      <th>29</th>\n",
       "      <td>{'id': 30, 'title': 'Things aren't going well ...</td>\n",
       "      <td>251</td>\n",
       "      <td>0</td>\n",
       "      <td>30</td>\n",
       "    </tr>\n",
       "  </tbody>\n",
       "</table>\n",
       "</div>"
      ],
      "text/plain": [
       "                                                posts  total  skip  limit\n",
       "0   {'id': 1, 'title': 'His mother had always taug...    251     0     30\n",
       "1   {'id': 2, 'title': 'He was an expert but not i...    251     0     30\n",
       "2   {'id': 3, 'title': 'Dave watched as the forest...    251     0     30\n",
       "3   {'id': 4, 'title': 'All he wanted was a candy ...    251     0     30\n",
       "4   {'id': 5, 'title': 'Hopes and dreams were dash...    251     0     30\n",
       "5   {'id': 6, 'title': 'Dave wasn't exactly sure h...    251     0     30\n",
       "6   {'id': 7, 'title': 'This is important to remem...    251     0     30\n",
       "7   {'id': 8, 'title': 'One can cook on and with a...    251     0     30\n",
       "8   {'id': 9, 'title': 'There are different types ...    251     0     30\n",
       "9   {'id': 10, 'title': 'They rushed out the door....    251     0     30\n",
       "10  {'id': 11, 'title': 'It wasn't quite yet time ...    251     0     30\n",
       "11  {'id': 12, 'title': 'She was aware that things...    251     0     30\n",
       "12  {'id': 13, 'title': 'She wanted rainbow hair.'...    251     0     30\n",
       "13  {'id': 14, 'title': 'The paper was blank.', 'b...    251     0     30\n",
       "14  {'id': 15, 'title': 'The trees, therefore, mus...    251     0     30\n",
       "15  {'id': 16, 'title': 'There was only one way to...    251     0     30\n",
       "16  {'id': 17, 'title': 'She was in a hurry.', 'bo...    251     0     30\n",
       "17  {'id': 18, 'title': 'She had a terrible habit ...    251     0     30\n",
       "18  {'id': 19, 'title': 'The rain and wind abruptl...    251     0     30\n",
       "19  {'id': 20, 'title': 'He couldn't remember exac...    251     0     30\n",
       "20  {'id': 21, 'title': 'He wandered down the stai...    251     0     30\n",
       "21  {'id': 22, 'title': 'She has seen this scene b...    251     0     30\n",
       "22  {'id': 23, 'title': 'It's an unfortunate reali...    251     0     30\n",
       "23  {'id': 24, 'title': 'The robot clicked disappr...    251     0     30\n",
       "24  {'id': 25, 'title': 'It went through such rapi...    251     0     30\n",
       "25  {'id': 26, 'title': 'She patiently waited for ...    251     0     30\n",
       "26  {'id': 27, 'title': 'Ten more steps.', 'body':...    251     0     30\n",
       "27  {'id': 28, 'title': 'He had three simple rules...    251     0     30\n",
       "28  {'id': 29, 'title': 'The chair sat in the corn...    251     0     30\n",
       "29  {'id': 30, 'title': 'Things aren't going well ...    251     0     30"
      ]
     },
     "execution_count": 7,
     "metadata": {},
     "output_type": "execute_result"
    }
   ],
   "source": [
    "# Example: Importing from a URL:\n",
    "pd.read_json('https://dummyjson.com/posts')"
   ]
  },
  {
   "cell_type": "markdown",
   "id": "fbaf013b-9993-4624-b753-81d5d05f9ed9",
   "metadata": {
    "jp-MarkdownHeadingCollapsed": true
   },
   "source": [
    "### V) Importing Data from SQL:"
   ]
  },
  {
   "cell_type": "markdown",
   "id": "7f7c5511-e859-46f1-9e41-4773e7286365",
   "metadata": {},
   "source": [
    "- Go to Kaggle and download world.sql dataset from World-Cities, Pop, Lang, Rank (SQL create tbls).\n",
    "- Go to workbench and create a database.\n",
    "- Import the world.sql file in the database.\n",
    "- Now once our data is stored in database, we are good to go."
   ]
  },
  {
   "cell_type": "markdown",
   "id": "f2c3f3a3-6357-4367-8ac4-f9d990ac5e19",
   "metadata": {},
   "source": [
    "- Note:\n",
    "  - We must also have mysql.connector library installed as this library is used for communication between mysql and python. For that we can do: '!pip install mysql.connector' in Jupyter Notebook.\n",
    "  - I was getting an error saying 'NotSupportedError: Authentication plugin 'caching_sha2_password' is not supported' then I went to CMD and did 'pip install --upgrade mysql-connector-python'."
   ]
  },
  {
   "cell_type": "code",
   "execution_count": 3,
   "id": "7ed4ea59-b35b-466a-972b-4d5086ac23ad",
   "metadata": {},
   "outputs": [
    {
     "name": "stderr",
     "output_type": "stream",
     "text": [
      "C:\\Users\\abhin\\AppData\\Local\\Temp\\ipykernel_14272\\3633213199.py:3: UserWarning: pandas only supports SQLAlchemy connectable (engine/connection) or database string URI or sqlite3 DBAPI2 connection. Other DBAPI2 objects are not tested. Please consider using SQLAlchemy.\n",
      "  pd.read_sql_query('select * from city', conn)  # read_sql_query() function automatically creates the Pandas dataframe for city table.\n"
     ]
    },
    {
     "data": {
      "text/html": [
       "<div>\n",
       "<style scoped>\n",
       "    .dataframe tbody tr th:only-of-type {\n",
       "        vertical-align: middle;\n",
       "    }\n",
       "\n",
       "    .dataframe tbody tr th {\n",
       "        vertical-align: top;\n",
       "    }\n",
       "\n",
       "    .dataframe thead th {\n",
       "        text-align: right;\n",
       "    }\n",
       "</style>\n",
       "<table border=\"1\" class=\"dataframe\">\n",
       "  <thead>\n",
       "    <tr style=\"text-align: right;\">\n",
       "      <th></th>\n",
       "      <th>ID</th>\n",
       "      <th>Name</th>\n",
       "      <th>CountryCode</th>\n",
       "      <th>District</th>\n",
       "      <th>Population</th>\n",
       "    </tr>\n",
       "  </thead>\n",
       "  <tbody>\n",
       "    <tr>\n",
       "      <th>0</th>\n",
       "      <td>1</td>\n",
       "      <td>Kabul</td>\n",
       "      <td>AFG</td>\n",
       "      <td>Kabol</td>\n",
       "      <td>1780000</td>\n",
       "    </tr>\n",
       "    <tr>\n",
       "      <th>1</th>\n",
       "      <td>2</td>\n",
       "      <td>Qandahar</td>\n",
       "      <td>AFG</td>\n",
       "      <td>Qandahar</td>\n",
       "      <td>237500</td>\n",
       "    </tr>\n",
       "    <tr>\n",
       "      <th>2</th>\n",
       "      <td>3</td>\n",
       "      <td>Herat</td>\n",
       "      <td>AFG</td>\n",
       "      <td>Herat</td>\n",
       "      <td>186800</td>\n",
       "    </tr>\n",
       "    <tr>\n",
       "      <th>3</th>\n",
       "      <td>4</td>\n",
       "      <td>Mazar-e-Sharif</td>\n",
       "      <td>AFG</td>\n",
       "      <td>Balkh</td>\n",
       "      <td>127800</td>\n",
       "    </tr>\n",
       "    <tr>\n",
       "      <th>4</th>\n",
       "      <td>5</td>\n",
       "      <td>Amsterdam</td>\n",
       "      <td>NLD</td>\n",
       "      <td>Noord-Holland</td>\n",
       "      <td>731200</td>\n",
       "    </tr>\n",
       "    <tr>\n",
       "      <th>...</th>\n",
       "      <td>...</td>\n",
       "      <td>...</td>\n",
       "      <td>...</td>\n",
       "      <td>...</td>\n",
       "      <td>...</td>\n",
       "    </tr>\n",
       "    <tr>\n",
       "      <th>4074</th>\n",
       "      <td>4075</td>\n",
       "      <td>Khan Yunis</td>\n",
       "      <td>PSE</td>\n",
       "      <td>Khan Yunis</td>\n",
       "      <td>123175</td>\n",
       "    </tr>\n",
       "    <tr>\n",
       "      <th>4075</th>\n",
       "      <td>4076</td>\n",
       "      <td>Hebron</td>\n",
       "      <td>PSE</td>\n",
       "      <td>Hebron</td>\n",
       "      <td>119401</td>\n",
       "    </tr>\n",
       "    <tr>\n",
       "      <th>4076</th>\n",
       "      <td>4077</td>\n",
       "      <td>Jabaliya</td>\n",
       "      <td>PSE</td>\n",
       "      <td>North Gaza</td>\n",
       "      <td>113901</td>\n",
       "    </tr>\n",
       "    <tr>\n",
       "      <th>4077</th>\n",
       "      <td>4078</td>\n",
       "      <td>Nablus</td>\n",
       "      <td>PSE</td>\n",
       "      <td>Nablus</td>\n",
       "      <td>100231</td>\n",
       "    </tr>\n",
       "    <tr>\n",
       "      <th>4078</th>\n",
       "      <td>4079</td>\n",
       "      <td>Rafah</td>\n",
       "      <td>PSE</td>\n",
       "      <td>Rafah</td>\n",
       "      <td>92020</td>\n",
       "    </tr>\n",
       "  </tbody>\n",
       "</table>\n",
       "<p>4079 rows × 5 columns</p>\n",
       "</div>"
      ],
      "text/plain": [
       "        ID            Name CountryCode       District  Population\n",
       "0        1           Kabul         AFG          Kabol     1780000\n",
       "1        2        Qandahar         AFG       Qandahar      237500\n",
       "2        3           Herat         AFG          Herat      186800\n",
       "3        4  Mazar-e-Sharif         AFG          Balkh      127800\n",
       "4        5       Amsterdam         NLD  Noord-Holland      731200\n",
       "...    ...             ...         ...            ...         ...\n",
       "4074  4075      Khan Yunis         PSE     Khan Yunis      123175\n",
       "4075  4076          Hebron         PSE         Hebron      119401\n",
       "4076  4077        Jabaliya         PSE     North Gaza      113901\n",
       "4077  4078          Nablus         PSE         Nablus      100231\n",
       "4078  4079           Rafah         PSE          Rafah       92020\n",
       "\n",
       "[4079 rows x 5 columns]"
      ]
     },
     "execution_count": 3,
     "metadata": {},
     "output_type": "execute_result"
    }
   ],
   "source": [
    "import mysql.connector as mc\n",
    "conn = mc.connect(host='localhost', user='root', password='root', database='world') # Establishing the connection. Here, we get the connection object\n",
    "pd.read_sql_query('select * from city', conn)  # read_sql_query() function automatically creates the Pandas dataframe for city table."
   ]
  },
  {
   "cell_type": "code",
   "execution_count": 4,
   "id": "7d68f520-8920-447c-a1d9-f87240e4cf72",
   "metadata": {},
   "outputs": [
    {
     "name": "stderr",
     "output_type": "stream",
     "text": [
      "C:\\Users\\abhin\\AppData\\Local\\Temp\\ipykernel_14272\\2871101743.py:3: UserWarning: pandas only supports SQLAlchemy connectable (engine/connection) or database string URI or sqlite3 DBAPI2 connection. Other DBAPI2 objects are not tested. Please consider using SQLAlchemy.\n",
      "  pd.read_sql_query('select * from city where CountryCode=\"IND\"', conn)  # read_sql_query() function automatically creates the Pandas dataframe for city table.\n"
     ]
    },
    {
     "data": {
      "text/html": [
       "<div>\n",
       "<style scoped>\n",
       "    .dataframe tbody tr th:only-of-type {\n",
       "        vertical-align: middle;\n",
       "    }\n",
       "\n",
       "    .dataframe tbody tr th {\n",
       "        vertical-align: top;\n",
       "    }\n",
       "\n",
       "    .dataframe thead th {\n",
       "        text-align: right;\n",
       "    }\n",
       "</style>\n",
       "<table border=\"1\" class=\"dataframe\">\n",
       "  <thead>\n",
       "    <tr style=\"text-align: right;\">\n",
       "      <th></th>\n",
       "      <th>ID</th>\n",
       "      <th>Name</th>\n",
       "      <th>CountryCode</th>\n",
       "      <th>District</th>\n",
       "      <th>Population</th>\n",
       "    </tr>\n",
       "  </thead>\n",
       "  <tbody>\n",
       "    <tr>\n",
       "      <th>0</th>\n",
       "      <td>1024</td>\n",
       "      <td>Mumbai (Bombay)</td>\n",
       "      <td>IND</td>\n",
       "      <td>Maharashtra</td>\n",
       "      <td>10500000</td>\n",
       "    </tr>\n",
       "    <tr>\n",
       "      <th>1</th>\n",
       "      <td>1025</td>\n",
       "      <td>Delhi</td>\n",
       "      <td>IND</td>\n",
       "      <td>Delhi</td>\n",
       "      <td>7206704</td>\n",
       "    </tr>\n",
       "    <tr>\n",
       "      <th>2</th>\n",
       "      <td>1026</td>\n",
       "      <td>Calcutta [Kolkata]</td>\n",
       "      <td>IND</td>\n",
       "      <td>West Bengali</td>\n",
       "      <td>4399819</td>\n",
       "    </tr>\n",
       "    <tr>\n",
       "      <th>3</th>\n",
       "      <td>1027</td>\n",
       "      <td>Chennai (Madras)</td>\n",
       "      <td>IND</td>\n",
       "      <td>Tamil Nadu</td>\n",
       "      <td>3841396</td>\n",
       "    </tr>\n",
       "    <tr>\n",
       "      <th>4</th>\n",
       "      <td>1028</td>\n",
       "      <td>Hyderabad</td>\n",
       "      <td>IND</td>\n",
       "      <td>Andhra Pradesh</td>\n",
       "      <td>2964638</td>\n",
       "    </tr>\n",
       "    <tr>\n",
       "      <th>...</th>\n",
       "      <td>...</td>\n",
       "      <td>...</td>\n",
       "      <td>...</td>\n",
       "      <td>...</td>\n",
       "      <td>...</td>\n",
       "    </tr>\n",
       "    <tr>\n",
       "      <th>336</th>\n",
       "      <td>1360</td>\n",
       "      <td>Ambala Sadar</td>\n",
       "      <td>IND</td>\n",
       "      <td>Haryana</td>\n",
       "      <td>90712</td>\n",
       "    </tr>\n",
       "    <tr>\n",
       "      <th>337</th>\n",
       "      <td>1361</td>\n",
       "      <td>Baidyabati</td>\n",
       "      <td>IND</td>\n",
       "      <td>West Bengali</td>\n",
       "      <td>90601</td>\n",
       "    </tr>\n",
       "    <tr>\n",
       "      <th>338</th>\n",
       "      <td>1362</td>\n",
       "      <td>Morvi</td>\n",
       "      <td>IND</td>\n",
       "      <td>Gujarat</td>\n",
       "      <td>90357</td>\n",
       "    </tr>\n",
       "    <tr>\n",
       "      <th>339</th>\n",
       "      <td>1363</td>\n",
       "      <td>Raigarh</td>\n",
       "      <td>IND</td>\n",
       "      <td>Chhatisgarh</td>\n",
       "      <td>89166</td>\n",
       "    </tr>\n",
       "    <tr>\n",
       "      <th>340</th>\n",
       "      <td>1364</td>\n",
       "      <td>Vejalpur</td>\n",
       "      <td>IND</td>\n",
       "      <td>Gujarat</td>\n",
       "      <td>89053</td>\n",
       "    </tr>\n",
       "  </tbody>\n",
       "</table>\n",
       "<p>341 rows × 5 columns</p>\n",
       "</div>"
      ],
      "text/plain": [
       "       ID                Name CountryCode        District  Population\n",
       "0    1024     Mumbai (Bombay)         IND     Maharashtra    10500000\n",
       "1    1025               Delhi         IND           Delhi     7206704\n",
       "2    1026  Calcutta [Kolkata]         IND    West Bengali     4399819\n",
       "3    1027    Chennai (Madras)         IND      Tamil Nadu     3841396\n",
       "4    1028           Hyderabad         IND  Andhra Pradesh     2964638\n",
       "..    ...                 ...         ...             ...         ...\n",
       "336  1360        Ambala Sadar         IND         Haryana       90712\n",
       "337  1361          Baidyabati         IND    West Bengali       90601\n",
       "338  1362               Morvi         IND         Gujarat       90357\n",
       "339  1363             Raigarh         IND     Chhatisgarh       89166\n",
       "340  1364            Vejalpur         IND         Gujarat       89053\n",
       "\n",
       "[341 rows x 5 columns]"
      ]
     },
     "execution_count": 4,
     "metadata": {},
     "output_type": "execute_result"
    }
   ],
   "source": [
    "# Example: Filtering data where CountryCode = IND\n",
    "import mysql.connector as mc\n",
    "conn = mc.connect(host='localhost', user='root', password='root', database='world') # Establishing the connection. Here, we get the connection object\n",
    "pd.read_sql_query('select * from city where CountryCode=\"IND\"', conn)  "
   ]
  },
  {
   "cell_type": "markdown",
   "id": "d77e7f2d-3f29-471a-9257-10ab14dba053",
   "metadata": {},
   "source": [
    "- Here, we have other parameters also like chunksize (which we use to load large data in chunks)."
   ]
  },
  {
   "cell_type": "markdown",
   "id": "c04baf31-83fc-4934-8627-f284c6051f4e",
   "metadata": {},
   "source": [
    "### VI) Exporting to"
   ]
  },
  {
   "cell_type": "code",
   "execution_count": null,
   "id": "78ffdd50-5c9d-4d5b-88b5-336c8ec09e50",
   "metadata": {},
   "outputs": [],
   "source": []
  }
 ],
 "metadata": {
  "kernelspec": {
   "display_name": "Python 3 (ipykernel)",
   "language": "python",
   "name": "python3"
  },
  "language_info": {
   "codemirror_mode": {
    "name": "ipython",
    "version": 3
   },
   "file_extension": ".py",
   "mimetype": "text/x-python",
   "name": "python",
   "nbconvert_exporter": "python",
   "pygments_lexer": "ipython3",
   "version": "3.12.4"
  }
 },
 "nbformat": 4,
 "nbformat_minor": 5
}
